{
  "nbformat": 4,
  "nbformat_minor": 0,
  "metadata": {
    "colab": {
      "provenance": [],
      "authorship_tag": "ABX9TyPCXTncNvtYGok4P8tIAjqt",
      "include_colab_link": true
    },
    "kernelspec": {
      "name": "python3",
      "display_name": "Python 3"
    },
    "language_info": {
      "name": "python"
    }
  },
  "cells": [
    {
      "cell_type": "markdown",
      "metadata": {
        "id": "view-in-github",
        "colab_type": "text"
      },
      "source": [
        "<a href=\"https://colab.research.google.com/github/sakshi-suryawanshi1/projects/blob/main/SER_model.ipynb\" target=\"_parent\"><img src=\"https://colab.research.google.com/assets/colab-badge.svg\" alt=\"Open In Colab\"/></a>"
      ]
    },
    {
      "cell_type": "code",
      "execution_count": null,
      "metadata": {
        "id": "HJ876Xs779m7"
      },
      "outputs": [],
      "source": [
        "pip install opendatasets --upgrade --quiet"
      ]
    },
    {
      "cell_type": "code",
      "source": [
        "pip install librosa --quiet"
      ],
      "metadata": {
        "id": "HDGeTERC9vAK"
      },
      "execution_count": null,
      "outputs": []
    },
    {
      "cell_type": "code",
      "source": [
        "import glob\n",
        "import librosa\n",
        "import numpy as np\n",
        "from sklearn.model_selection import train_test_split\n",
        "import os"
      ],
      "metadata": {
        "id": "FC7snYDQ-Lki"
      },
      "execution_count": null,
      "outputs": []
    },
    {
      "cell_type": "code",
      "source": [
        "import opendatasets as od\n",
        "download_url = 'https://www.kaggle.com/uwrfkaggler/ravdess-emotional-speech-audio'\n",
        "od.download(download_url,force=True)"
      ],
      "metadata": {
        "colab": {
          "base_uri": "https://localhost:8080/"
        },
        "id": "KGo28k2k9x2G",
        "outputId": "75474e76-17eb-42b5-a67f-e50424c6c126"
      },
      "execution_count": null,
      "outputs": [
        {
          "output_type": "stream",
          "name": "stdout",
          "text": [
            "Please provide your Kaggle credentials to download this dataset. Learn more: http://bit.ly/kaggle-creds\n",
            "Your Kaggle username: sakshisuryawanshi\n",
            "Your Kaggle Key: ··········\n",
            "Downloading ravdess-emotional-speech-audio.zip to ./ravdess-emotional-speech-audio\n"
          ]
        },
        {
          "output_type": "stream",
          "name": "stderr",
          "text": [
            "100%|██████████| 429M/429M [00:02<00:00, 159MB/s]\n"
          ]
        },
        {
          "output_type": "stream",
          "name": "stdout",
          "text": [
            "\n"
          ]
        }
      ]
    },
    {
      "cell_type": "code",
      "source": [
        "data_filename = '/content/ravdess-emotional-speech-audio'"
      ],
      "metadata": {
        "id": "YZ-UUHEZ9_H1"
      },
      "execution_count": null,
      "outputs": []
    },
    {
      "cell_type": "code",
      "source": [
        "# all emotions on RAVDESS dataset\n",
        "int2emotion = {\n",
        "  \"01\": \"neutral\",\n",
        "    \"02\": \"calm\",\n",
        "    \"03\": \"happy\",\n",
        "    \"04\": \"sad\",\n",
        "    \"05\": \"angry\",\n",
        "    \"06\": \"fearful\",\n",
        "    \"07\": \"disgust\",\n",
        "    \"08\": \"surprised\"\n",
        "}\n",
        "\n",
        "\n",
        "# we allow these emotions\n",
        "AVAILABLE_EMOTIONS = {\n",
        "    \"fearful\",\n",
        "    \"sad\",\n",
        "    \"neutral\",\n",
        "    \"happy\"\n",
        "}\n",
        "\n",
        "target_emotions = {\n",
        "    \"happy\" : 0,\n",
        "    \"sad\" : 1,\n",
        "    \"neutral\" : 2,\n",
        "    \"fearful\" : 3\n",
        "}"
      ],
      "metadata": {
        "id": "8vlNYEgWA6cf"
      },
      "execution_count": null,
      "outputs": []
    },
    {
      "cell_type": "code",
      "source": [
        "def extract_feature(file_name):\n",
        "  X,sample_rate = librosa.load(file_name, dtype=\"float64\", mono=\"true\",sr=48000)\n",
        "  result = np.array([])\n",
        "\n",
        "  mfccs = np.mean(librosa.feature.mfcc(y=X, sr=sample_rate, n_mfcc = 40).T, axis=0)\n",
        "  result = np.hstack((result, mfccs))\n",
        "\n",
        "  stft = np.abs(librosa.stft(X))     #absolute value # Short-time Fourier transform (STFT), is a Fourier-related transform used to determine the sinusoidal frequency and phase content of local sections of a signal as it changes over time\n",
        "  chroma = np.mean(librosa.feature.chroma_stft(S=stft, sr=sample_rate, n_chroma= 12).T,axis=0)\n",
        "  result = np.hstack((result, chroma))\n",
        "\n",
        "  return result"
      ],
      "metadata": {
        "id": "0KLwTe9jBKRg"
      },
      "execution_count": null,
      "outputs": []
    },
    {
      "cell_type": "code",
      "source": [
        "def load_ravdess(test_size=0.2):\n",
        "    X, y = [], []\n",
        "    try :\n",
        "\n",
        "      for file in glob.glob(\"/content/ravdess-emotional-speech-audio/Actor_*/*.wav\"):\n",
        "\n",
        "          # get the base name of the audio file\n",
        "          basename = os.path.basename(file)\n",
        "\n",
        "\n",
        "          emotion_str = int2emotion[basename.split(\"-\")[2]]\n",
        "          if emotion_str in target_emotions:\n",
        "            emotion = target_emotions[emotion_str]\n",
        "          else:\n",
        "              continue\n",
        "\n",
        "          features = extract_feature(file)\n",
        "          X.append(features)\n",
        "          y.append(emotion)\n",
        "    except :\n",
        "        print(basename)\n",
        "        pass\n",
        "    # split the data to training and testing and return it\n",
        "    return X, y"
      ],
      "metadata": {
        "id": "EKaxOV-Q-GAC"
      },
      "execution_count": null,
      "outputs": []
    },
    {
      "cell_type": "code",
      "source": [
        " X1, y1= load_ravdess()"
      ],
      "metadata": {
        "id": "o97hsdZ9NsYo"
      },
      "execution_count": null,
      "outputs": []
    },
    {
      "cell_type": "code",
      "source": [
        "print(y1, len(y1))"
      ],
      "metadata": {
        "colab": {
          "base_uri": "https://localhost:8080/"
        },
        "id": "0l0nt5pgQLJa",
        "outputId": "3606354d-5f52-46fd-8008-9d5c160ab0ca"
      },
      "execution_count": null,
      "outputs": [
        {
          "output_type": "stream",
          "name": "stdout",
          "text": [
            "[1, 2, 3, 0, 0, 0, 1, 0, 0, 2, 3, 3, 3, 2, 0, 1, 2, 3, 3, 0, 1, 3, 1, 1, 1, 1, 0, 3, 0, 1, 2, 0, 3, 3, 0, 1, 1, 3, 3, 3, 1, 0, 0, 3, 0, 3, 1, 3, 2, 2, 1, 0, 0, 1, 1, 2, 1, 3, 1, 3, 3, 0, 0, 2, 3, 2, 2, 1, 1, 0, 1, 3, 3, 2, 3, 1, 1, 0, 0, 3, 0, 0, 1, 0, 0, 0, 3, 1, 3, 3, 3, 0, 1, 0, 0, 3, 1, 1, 1, 3, 2, 1, 0, 2, 1, 3, 0, 2, 1, 2, 3, 0, 3, 2, 0, 3, 0, 3, 3, 3, 0, 3, 1, 2, 1, 0, 0, 0, 1, 3, 0, 1, 0, 2, 1, 1, 3, 1, 1, 2, 0, 1, 3, 1, 1, 0, 2, 1, 0, 2, 2, 3, 1, 3, 1, 0, 0, 1, 1, 3, 3, 0, 3, 0, 2, 0, 3, 3, 3, 0, 1, 1, 1, 2, 2, 3, 0, 0, 0, 1, 1, 1, 3, 2, 3, 3, 0, 1, 0, 3, 3, 2, 3, 0, 1, 0, 0, 2, 0, 3, 0, 3, 1, 1, 3, 3, 1, 2, 3, 2, 0, 3, 3, 2, 0, 1, 1, 3, 1, 0, 1, 0, 0, 1, 1, 0, 2, 2, 1, 2, 1, 1, 0, 0, 1, 1, 1, 0, 3, 3, 3, 3, 0, 0, 0, 1, 3, 2, 3, 3, 3, 0, 1, 0, 3, 1, 0, 0, 3, 1, 1, 1, 3, 1, 3, 0, 2, 3, 1, 0, 2, 3, 2, 3, 2, 1, 3, 0, 0, 0, 3, 1, 3, 3, 3, 1, 0, 0, 2, 1, 3, 1, 3, 0, 0, 2, 0, 1, 2, 1, 1, 2, 0, 3, 0, 0, 3, 1, 0, 2, 3, 0, 0, 3, 0, 0, 0, 3, 3, 1, 3, 0, 1, 1, 1, 3, 1, 1, 2, 1, 3, 3, 1, 2, 2, 0, 3, 2, 3, 3, 1, 2, 3, 1, 1, 0, 0, 0, 1, 3, 3, 2, 0, 0, 3, 1, 1, 0, 1, 2, 3, 1, 0, 0, 3, 3, 1, 3, 1, 2, 2, 3, 2, 3, 0, 0, 0, 1, 1, 0, 1, 1, 0, 1, 0, 3, 2, 3, 0, 1, 3, 0, 0, 2, 0, 1, 0, 3, 1, 0, 2, 1, 1, 1, 3, 0, 0, 3, 3, 0, 1, 3, 1, 1, 2, 0, 3, 3, 3, 2, 2, 1, 0, 0, 1, 3, 3, 3, 0, 2, 1, 2, 0, 3, 3, 1, 1, 0, 3, 0, 2, 0, 3, 1, 3, 1, 1, 0, 1, 1, 0, 3, 1, 3, 1, 1, 0, 3, 0, 2, 1, 0, 0, 2, 3, 2, 3, 3, 0, 3, 0, 3, 1, 2, 0, 1, 1, 3, 1, 3, 3, 1, 2, 0, 2, 3, 3, 0, 1, 1, 2, 0, 0, 0, 1, 0, 2, 0, 1, 3, 3, 3, 1, 0, 1, 1, 0, 1, 2, 3, 1, 0, 3, 1, 0, 3, 0, 1, 2, 0, 1, 0, 2, 3, 3, 3, 3, 3, 2, 1, 0, 0, 0, 0, 2, 3, 0, 3, 1, 2, 1, 1, 3, 0, 0, 2, 3, 3, 1, 3, 0, 1, 0, 1, 3, 0, 2, 1, 1, 3, 1, 2, 3, 0, 0, 3, 3, 1, 1, 3, 0, 0, 3, 0, 1, 2, 3, 2, 0, 3, 1, 0, 3, 1, 2, 1, 0, 1, 0, 1, 0, 3, 3, 2, 0, 3, 2, 0, 3, 1, 2, 0, 3, 1, 1, 1, 0, 1, 3, 1, 3, 0, 3, 0, 2, 1, 1, 1, 3, 0, 3, 1, 1, 1, 0, 0, 0, 3, 0, 0, 2, 3, 1, 2, 3, 3, 0, 0, 2, 1, 3, 2, 1, 3, 0, 0, 3, 2, 1, 1, 1, 0, 1, 3, 0, 3, 1, 3, 3, 0, 1, 1, 2, 0, 2, 3, 1, 3, 0, 0, 3, 2] 672\n"
          ]
        }
      ]
    },
    {
      "cell_type": "code",
      "source": [
        "print(X1[0])"
      ],
      "metadata": {
        "colab": {
          "base_uri": "https://localhost:8080/"
        },
        "id": "JF7CCpl7PkA6",
        "outputId": "91d0b387-634e-49f6-b644-be60c97ed36d"
      },
      "execution_count": null,
      "outputs": [
        {
          "output_type": "stream",
          "name": "stdout",
          "text": [
            "[-5.22062669e+02  5.28681481e+01 -2.44114669e+01 -2.95765881e+00\n",
            " -7.61023091e+00 -3.73679445e+00 -1.64968227e+01 -9.29704096e+00\n",
            " -1.20435666e+01 -1.51761296e+01 -1.34212714e+01 -6.26838315e+00\n",
            " -8.03357756e-01 -9.11200923e+00 -8.53271093e+00  3.17715680e+00\n",
            " -2.71507519e-02 -1.71229266e+00  2.54704943e+00  1.18630531e+00\n",
            "  3.25901557e+00  2.93687473e+00  3.28916701e+00  4.40895112e+00\n",
            "  3.06122094e+00  6.38891259e+00  5.42340743e-01 -3.36761790e+00\n",
            " -5.77903510e-01  2.82024774e-01 -1.30626888e+00 -9.78701381e-01\n",
            " -1.03275114e+00 -1.67214845e+00 -6.61603161e-01 -8.39094023e-01\n",
            "  1.28593594e+00 -1.11540952e+00 -3.37812100e+00 -1.82093127e+00\n",
            "  5.60811507e-01  5.41442925e-01  5.46441624e-01  5.68269108e-01\n",
            "  6.34353799e-01  6.61576797e-01  6.98527257e-01  6.47479069e-01\n",
            "  5.99201774e-01  6.25581520e-01  6.36260223e-01  6.18607136e-01]\n"
          ]
        }
      ]
    },
    {
      "cell_type": "code",
      "source": [
        "import opendatasets as od\n",
        "download_url = 'https://www.kaggle.com/datasets/barelydedicated/savee-database'\n",
        "od.download(download_url,force=True)"
      ],
      "metadata": {
        "colab": {
          "base_uri": "https://localhost:8080/"
        },
        "id": "Tis_WJ71QD4Q",
        "outputId": "6ef15696-15fa-4d2c-9442-7343e6695edc"
      },
      "execution_count": null,
      "outputs": [
        {
          "output_type": "stream",
          "name": "stdout",
          "text": [
            "Please provide your Kaggle credentials to download this dataset. Learn more: http://bit.ly/kaggle-creds\n",
            "Your Kaggle username: sakshisuryawanshi\n",
            "Your Kaggle Key: ··········\n",
            "Downloading savee-database.zip to ./savee-database\n"
          ]
        },
        {
          "output_type": "stream",
          "name": "stderr",
          "text": [
            "100%|██████████| 215M/215M [00:01<00:00, 126MB/s]\n"
          ]
        },
        {
          "output_type": "stream",
          "name": "stdout",
          "text": [
            "\n"
          ]
        }
      ]
    },
    {
      "cell_type": "code",
      "source": [
        "# a', 'd', 'f', 'h', 'n', 'sa' and 'su' represent 'anger', 'disgust', 'fear', 'happiness', 'neutral',\n",
        "# 'sadness' and 'surprise' emotion classes respectively.\n",
        "\n",
        "# all emotions on RAVDESS dataset\n",
        "char2emotion = {\n",
        "  \"n\": \"neutral\",\n",
        "    # \"02\": \"calm\",\n",
        "    \"h\": \"happy\",\n",
        "    \"sa\": \"sad\",\n",
        "    \"a\": \"angry\",\n",
        "    \"f\": \"fearful\",\n",
        "    \"d\": \"disgust\",\n",
        "    \"su\": \"surprised\"\n",
        "}\n"
      ],
      "metadata": {
        "id": "WsoUthXkQK1e"
      },
      "execution_count": null,
      "outputs": []
    },
    {
      "cell_type": "code",
      "source": [
        "def load_savee(test_size=0.3):\n",
        "    X, y = [], []\n",
        "    try :\n",
        "\n",
        "      for file in glob.glob(\"/content/savee-database/AudioData/*/*.wav\"):\n",
        "          # get the base name of the audio file\n",
        "\n",
        "          basename = os.path.basename(file)\n",
        "\n",
        "          emotion_str = char2emotion[basename[:-6]]\n",
        "\n",
        "          if emotion_str in target_emotions:\n",
        "            emotion = target_emotions[emotion_str]\n",
        "          else:\n",
        "              continue\n",
        "\n",
        "          features = extract_feature(file)\n",
        "          X.append(features)\n",
        "          y.append(emotion)\n",
        "    except :\n",
        "        print(basename)\n",
        "        pass\n",
        "    # split the data to training and testing and return it\n",
        "    return X, y\n",
        ""
      ],
      "metadata": {
        "id": "HY9nC4c4NXae"
      },
      "execution_count": null,
      "outputs": []
    },
    {
      "cell_type": "code",
      "source": [
        "X2, y2 = load_savee()"
      ],
      "metadata": {
        "id": "tIUiyNvTNXJb"
      },
      "execution_count": null,
      "outputs": []
    },
    {
      "cell_type": "code",
      "source": [
        "print(y2, len(y2), X2[0])"
      ],
      "metadata": {
        "colab": {
          "base_uri": "https://localhost:8080/"
        },
        "id": "0DJXZWWMRI60",
        "outputId": "c52cbc35-0401-4a5f-e4da-7982daa70378"
      },
      "execution_count": null,
      "outputs": [
        {
          "output_type": "stream",
          "name": "stdout",
          "text": [
            "[2, 1, 1, 2, 0, 0, 0, 0, 1, 3, 1, 2, 1, 2, 0, 0, 3, 2, 2, 2, 2, 0, 2, 3, 2, 3, 3, 2, 2, 3, 0, 2, 2, 2, 2, 1, 3, 1, 3, 0, 2, 0, 1, 1, 1, 3, 3, 1, 2, 1, 0, 3, 1, 1, 3, 2, 2, 3, 2, 3, 0, 0, 2, 3, 2, 2, 2, 0, 2, 2, 1, 2, 2, 2, 0, 2, 1, 1, 2, 0, 0, 0, 0, 1, 3, 1, 2, 1, 2, 0, 0, 3, 2, 2, 2, 2, 0, 2, 3, 2, 3, 3, 2, 2, 3, 0, 2, 2, 2, 2, 1, 3, 1, 3, 0, 2, 0, 1, 1, 1, 3, 3, 1, 2, 1, 0, 3, 1, 1, 3, 2, 2, 3, 2, 3, 0, 0, 2, 3, 2, 2, 2, 0, 2, 2, 1, 2, 2, 2, 0, 2, 1, 1, 2, 0, 0, 0, 0, 1, 3, 1, 2, 1, 2, 0, 0, 3, 2, 2, 2, 2, 0, 2, 3, 2, 3, 3, 2, 2, 3, 0, 2, 2, 2, 2, 1, 3, 1, 3, 0, 2, 0, 1, 1, 1, 3, 3, 1, 2, 1, 0, 3, 1, 1, 3, 2, 2, 3, 2, 3, 0, 0, 2, 3, 2, 2, 2, 0, 2, 2, 1, 2, 2, 2, 0, 2, 1, 1, 2, 0, 0, 0, 0, 1, 3, 1, 2, 1, 2, 0, 0, 3, 2, 2, 2, 2, 0, 2, 3, 2, 3, 3, 2, 2, 3, 0, 2, 2, 2, 2, 1, 3, 1, 3, 0, 2, 0, 1, 1, 1, 3, 3, 1, 2, 1, 0, 3, 1, 1, 3, 2, 2, 3, 2, 3, 0, 0, 2, 3, 2, 2, 2, 0, 2, 2, 1, 2, 2, 2, 0] 300 [-6.45565944e+02  1.51496081e+02  4.13861853e+01  2.82926345e+01\n",
            "  3.25987517e+01  1.46398134e+01  1.42102115e+00 -5.47915762e+00\n",
            " -3.61446728e+00 -2.64659176e+00 -8.72289566e+00 -6.83924154e+00\n",
            " -1.93429148e+00 -2.10659972e+00 -1.24923724e+00 -8.73841323e-01\n",
            " -3.05636968e+00 -3.39717091e+00  1.91438671e+00  6.89438436e+00\n",
            "  2.18518371e+00 -2.62268029e+00  2.29386058e+00  5.62297917e+00\n",
            "  9.69743616e-01 -2.57673122e+00  3.62851115e-01  2.84205518e+00\n",
            " -7.92868441e-01 -2.50226302e+00  9.61608870e-01  1.16291177e+00\n",
            " -5.05401128e-01  9.35373110e-01  1.12158481e+00 -6.85813712e-01\n",
            " -8.08662605e-01 -2.28789843e-01 -1.18724909e-01  3.92485196e-01\n",
            "  6.77610494e-01  6.19924295e-01  5.55325864e-01  5.41621138e-01\n",
            "  5.85776500e-01  6.26694987e-01  6.67619122e-01  6.58504536e-01\n",
            "  6.03239956e-01  6.14468053e-01  6.69762520e-01  6.67157480e-01]\n"
          ]
        }
      ]
    },
    {
      "cell_type": "code",
      "source": [
        "import opendatasets as od\n",
        "download_url = 'https://www.kaggle.com/datasets/ejlok1/toronto-emotional-speech-set-tess'\n",
        "od.download(download_url,force=True)"
      ],
      "metadata": {
        "colab": {
          "base_uri": "https://localhost:8080/"
        },
        "id": "m6jAnWmZUcBC",
        "outputId": "99efa3f0-4d8c-411d-ae2a-fd42365d0101"
      },
      "execution_count": null,
      "outputs": [
        {
          "output_type": "stream",
          "name": "stdout",
          "text": [
            "Please provide your Kaggle credentials to download this dataset. Learn more: http://bit.ly/kaggle-creds\n",
            "Your Kaggle username: sakshisuryawanshi\n",
            "Your Kaggle Key: ··········\n",
            "Downloading toronto-emotional-speech-set-tess.zip to ./toronto-emotional-speech-set-tess\n"
          ]
        },
        {
          "output_type": "stream",
          "name": "stderr",
          "text": [
            "100%|██████████| 428M/428M [00:03<00:00, 144MB/s]\n"
          ]
        },
        {
          "output_type": "stream",
          "name": "stdout",
          "text": [
            "\n"
          ]
        }
      ]
    },
    {
      "cell_type": "code",
      "source": [
        "\n",
        "str2emotion = {\n",
        "  \"neutral\": \"neutral\",\n",
        "    \"happy\": \"happy\",\n",
        "    \"sad\": \"sad\",\n",
        "    \"angry\": \"angry\",\n",
        "    \"fear\": \"fearful\",\n",
        "    \"disgust\": \"disgust\",\n",
        "    \"ps\": \"surprised\"\n",
        "}\n"
      ],
      "metadata": {
        "id": "UXl7tBKTUvm-"
      },
      "execution_count": null,
      "outputs": []
    },
    {
      "cell_type": "code",
      "source": [
        "def load_tess():\n",
        "    X, y = [], []\n",
        "    try :\n",
        "\n",
        "      for file in glob.glob(\"/content/toronto-emotional-speech-set-tess/TESS Toronto emotional speech set data/*/*.wav\"):\n",
        "          # get the base name of the audio file\n",
        "\n",
        "          basename = os.path.basename(file)\n",
        "          emo = basename.split('_')[-1][:-4]\n",
        "          emotion_str = str2emotion[emo]\n",
        "          if emotion_str in target_emotions:\n",
        "            emotion = target_emotions[emotion_str]\n",
        "          else:\n",
        "              continue\n",
        "\n",
        "          features = extract_feature(file)\n",
        "          X.append(features)\n",
        "          y.append(emotion)\n",
        "    except :\n",
        "        print(basename)\n",
        "        pass\n",
        "    # split the data to training and testing and return it\n",
        "    return X, y\n",
        ""
      ],
      "metadata": {
        "id": "9di7y6EmUvnA"
      },
      "execution_count": null,
      "outputs": []
    },
    {
      "cell_type": "code",
      "source": [
        "X3, y3 = load_tess()"
      ],
      "metadata": {
        "id": "H6w8kKSQV8pA"
      },
      "execution_count": null,
      "outputs": []
    },
    {
      "cell_type": "code",
      "source": [
        "print(X3[0],y3,len(y3),sep=\"\\n\" )"
      ],
      "metadata": {
        "id": "nPjleU3lX01r"
      },
      "execution_count": null,
      "outputs": []
    },
    {
      "cell_type": "code",
      "source": [
        "import opendatasets as od\n",
        "download_url = 'https://www.kaggle.com/datasets/piyushagni5/berlin-database-of-emotional-speech-emodb'\n",
        "od.download(download_url,force=True)"
      ],
      "metadata": {
        "colab": {
          "base_uri": "https://localhost:8080/"
        },
        "id": "jeFCTZ4TZ2Ua",
        "outputId": "94e5a73b-612b-40b3-b109-4181efd0e363"
      },
      "execution_count": null,
      "outputs": [
        {
          "output_type": "stream",
          "name": "stdout",
          "text": [
            "Please provide your Kaggle credentials to download this dataset. Learn more: http://bit.ly/kaggle-creds\n",
            "Your Kaggle username: sakshisuryawanshi\n",
            "Your Kaggle Key: ··········\n",
            "Downloading berlin-database-of-emotional-speech-emodb.zip to ./berlin-database-of-emotional-speech-emodb\n"
          ]
        },
        {
          "output_type": "stream",
          "name": "stderr",
          "text": [
            "100%|██████████| 38.0M/38.0M [00:00<00:00, 135MB/s]\n"
          ]
        },
        {
          "output_type": "stream",
          "name": "stdout",
          "text": [
            "\n"
          ]
        }
      ]
    },
    {
      "cell_type": "code",
      "source": [
        "# Every utterance is named according to the same scheme:\n",
        "\n",
        "# Positions 1-2: number of speaker\n",
        "# Positions 3-5: code for text\n",
        "# Position 6: emotion (sorry, letter stands for german emotion word)\n",
        "# Position 7: if there are more than two versions these are numbered a, b, c ....\n",
        "# Example: 03a01Fa.wav is the audio file from Speaker 03 speaking text a01 with the emotion \"Freude\" (Happiness).\n",
        "\n",
        "# all emotions on RAVDESS dataset\n",
        "code2emotion = {\n",
        "  \"N\": \"neutral\",\n",
        "    \"L\": \"boredom\",\n",
        "    \"F\": \"happy\",\n",
        "    \"T\": \"sad\",\n",
        "    \"W\": \"angry\",\n",
        "    \"A\": \"fearful\",\n",
        "    \"E\": \"disgust\"\n",
        "}\n",
        "\n",
        "# A\tanger\tW\tÄrger (Wut)\n",
        "# B\tboredom\tL\tLangeweile\n",
        "# D\tdisgust\tE\tEkel\n",
        "# F\tanxiety/fear\tA\tAngst\n",
        "# H\thappiness\tF\tFreude\n",
        "# S\tsadness\tT\tTrauer\n",
        "# N = neutral version"
      ],
      "metadata": {
        "id": "OrAjFL-yaG-O"
      },
      "execution_count": null,
      "outputs": []
    },
    {
      "cell_type": "code",
      "source": [
        "def load_emodb():\n",
        "    X, y = [], []\n",
        "    try :\n",
        "\n",
        "      for file in glob.glob(\"/content/berlin-database-of-emotional-speech-emodb/wav/*.wav\"):\n",
        "          # get the base name of the audio file\n",
        "\n",
        "          basename = os.path.basename(file)\n",
        "          emotion_str = code2emotion[basename[5]]\n",
        "          if emotion_str in target_emotions:\n",
        "            emotion = target_emotions[emotion_str]\n",
        "          else:\n",
        "              continue\n",
        "\n",
        "          features = extract_feature(file)\n",
        "          X.append(features)\n",
        "          y.append(emotion)\n",
        "    except :\n",
        "        print(basename)\n",
        "        pass\n",
        "    # split the data to training and testing and return it\n",
        "    return X, y"
      ],
      "metadata": {
        "id": "yzoGwcbAaLXz"
      },
      "execution_count": null,
      "outputs": []
    },
    {
      "cell_type": "code",
      "source": [
        "X4, y4 = load_emodb()"
      ],
      "metadata": {
        "id": "PN0b4yrlaaGK"
      },
      "execution_count": null,
      "outputs": []
    },
    {
      "cell_type": "code",
      "source": [
        "print(X4[0], y4, len(y4), sep =\"\\n\")"
      ],
      "metadata": {
        "colab": {
          "base_uri": "https://localhost:8080/"
        },
        "id": "Dmt1-HmlabZt",
        "outputId": "7266e418-b97f-4a7c-d989-31f66028f53a"
      },
      "execution_count": null,
      "outputs": [
        {
          "output_type": "stream",
          "name": "stdout",
          "text": [
            "[-313.98026713  131.62898887   -6.49233423   35.79220565   26.55555858\n",
            "   -1.42109824   17.43557536   -2.30446873   -7.19267612    6.20339834\n",
            "  -12.08049884   -8.09743752    3.25644572   -4.71551617   -0.79611222\n",
            "   -2.17316946   -1.74252124    8.05688819   -3.64899897   -8.83791547\n",
            "    1.73993191   -2.68419918   -5.18674988   -1.99891162   -3.28575385\n",
            "    0.61885777    0.50617138   -2.44694972   -0.49369838   -1.97433777\n",
            "   -0.85092258    0.74495809   -1.71966738    3.00022652    5.64844756\n",
            "    3.09632462    6.58149015    6.60652228    3.47489704    4.77720078\n",
            "    0.56425539    0.60057695    0.59886295    0.61909819    0.60911499\n",
            "    0.56802282    0.55325966    0.55694197    0.6184052     0.66395794\n",
            "    0.68809856    0.60928862]\n",
            "[2, 1, 3, 2, 2, 0, 3, 2, 3, 2, 0, 2, 1, 3, 3, 0, 1, 3, 0, 3, 1, 1, 0, 1, 2, 2, 2, 3, 2, 2, 2, 2, 3, 3, 0, 1, 3, 3, 3, 3, 2, 2, 2, 2, 0, 3, 1, 2, 2, 0, 3, 2, 1, 2, 2, 0, 1, 3, 2, 3, 1, 1, 3, 0, 2, 1, 0, 0, 0, 0, 1, 2, 2, 0, 0, 0, 3, 3, 0, 0, 0, 2, 2, 1, 3, 2, 1, 0, 2, 2, 3, 3, 1, 3, 0, 2, 0, 2, 0, 2, 0, 0, 0, 3, 1, 3, 1, 0, 1, 2, 0, 3, 0, 2, 2, 2, 0, 1, 0, 0, 3, 0, 1, 1, 2, 0, 1, 3, 2, 2, 2, 1, 0, 3, 2, 3, 3, 3, 0, 1, 0, 2, 0, 2, 3, 3, 1, 2, 3, 0, 1, 1, 1, 2, 1, 1, 0, 2, 1, 3, 0, 0, 2, 1, 0, 3, 2, 0, 3, 2, 0, 2, 3, 1, 3, 3, 0, 2, 2, 3, 1, 0, 1, 3, 2, 3, 2, 2, 2, 0, 3, 1, 1, 1, 1, 3, 1, 0, 0, 3, 0, 1, 2, 0, 2, 0, 2, 2, 0, 3, 1, 3, 2, 1, 2, 1, 1, 1, 3, 2, 3, 1, 3, 1, 1, 3, 3, 0, 2, 0, 2, 1, 0, 3, 3, 2, 2, 0, 0, 3, 3, 0, 0, 2, 3, 0, 0, 1, 2, 3, 0, 1, 2, 0, 0, 1, 2, 2, 3, 0, 2, 2, 2, 1, 3, 0, 1, 1, 3, 2, 1, 3, 3, 2, 1, 1, 1, 3, 3, 0, 0]\n",
            "281\n"
          ]
        }
      ]
    },
    {
      "cell_type": "code",
      "source": [
        "X = []\n",
        "X.extend(X2)\n",
        "X.extend(X3)\n",
        "X.extend(X4)\n",
        "print(len(X))"
      ],
      "metadata": {
        "colab": {
          "base_uri": "https://localhost:8080/"
        },
        "id": "h6OshYIcdoB4",
        "outputId": "97b952df-d35c-4b86-f550-65ace215f141"
      },
      "execution_count": null,
      "outputs": [
        {
          "output_type": "stream",
          "name": "stdout",
          "text": [
            "2181\n"
          ]
        }
      ]
    },
    {
      "cell_type": "code",
      "source": [
        "y = []\n",
        "y.extend(y2)\n",
        "y.extend(y3)\n",
        "y.extend(y4)\n",
        "print(len(y))"
      ],
      "metadata": {
        "colab": {
          "base_uri": "https://localhost:8080/"
        },
        "id": "3n1ed3nDet7P",
        "outputId": "8f67fa77-8d78-4fa0-e662-2a6b54cd67e0"
      },
      "execution_count": null,
      "outputs": [
        {
          "output_type": "stream",
          "name": "stdout",
          "text": [
            "2181\n"
          ]
        }
      ]
    },
    {
      "cell_type": "code",
      "source": [
        "print(type(X),type(y))"
      ],
      "metadata": {
        "id": "FUKwMABrOhZ6",
        "colab": {
          "base_uri": "https://localhost:8080/"
        },
        "outputId": "4ef684f4-0c7e-4041-ae18-795bbdf7608d"
      },
      "execution_count": null,
      "outputs": [
        {
          "output_type": "stream",
          "name": "stdout",
          "text": [
            "<class 'list'> <class 'list'>\n"
          ]
        }
      ]
    },
    {
      "cell_type": "code",
      "source": [
        "X = np.array(X)\n",
        "y = np.array(y)"
      ],
      "metadata": {
        "id": "-9UQHgvDQHVe"
      },
      "execution_count": null,
      "outputs": []
    },
    {
      "cell_type": "code",
      "source": [
        "print(type(X),type(y))"
      ],
      "metadata": {
        "id": "-68Ds4rLKDKx",
        "colab": {
          "base_uri": "https://localhost:8080/"
        },
        "outputId": "01fa72ba-73c3-43e8-b164-9a811e9bf523"
      },
      "execution_count": null,
      "outputs": [
        {
          "output_type": "stream",
          "name": "stdout",
          "text": [
            "<class 'numpy.ndarray'> <class 'numpy.ndarray'>\n"
          ]
        }
      ]
    },
    {
      "cell_type": "code",
      "source": [
        "X.shape, y.shape"
      ],
      "metadata": {
        "id": "5JaunQmWQMg5",
        "colab": {
          "base_uri": "https://localhost:8080/"
        },
        "outputId": "d0517542-aa4e-4368-beb1-0c41099ba492"
      },
      "execution_count": null,
      "outputs": [
        {
          "output_type": "execute_result",
          "data": {
            "text/plain": [
              "((2181, 52), (2181,))"
            ]
          },
          "metadata": {},
          "execution_count": 82
        }
      ]
    },
    {
      "cell_type": "code",
      "source": [
        " X_train, X_test, y_train, y_test  = train_test_split(X,y, test_size=0.2, random_state=42)"
      ],
      "metadata": {
        "id": "qefBG7UgNgOy"
      },
      "execution_count": null,
      "outputs": []
    },
    {
      "cell_type": "code",
      "source": [
        "print(X_train.shape,\n",
        "     X_test.shape,\n",
        "      y_train.shape,\n",
        "      y_test.shape )"
      ],
      "metadata": {
        "id": "CcxfmsdlKFAz",
        "colab": {
          "base_uri": "https://localhost:8080/"
        },
        "outputId": "9b72e198-31b9-4706-8c5d-1dc3684bff00"
      },
      "execution_count": null,
      "outputs": [
        {
          "output_type": "stream",
          "name": "stdout",
          "text": [
            "(1744, 52) (437, 52) (1744,) (437,)\n"
          ]
        }
      ]
    },
    {
      "cell_type": "code",
      "source": [
        "x_traincnn = np.expand_dims(X_train, axis=2)\n",
        "x_testcnn = np.expand_dims(X_test, axis=2)"
      ],
      "metadata": {
        "id": "7yVNVbsBKol8"
      },
      "execution_count": null,
      "outputs": []
    },
    {
      "cell_type": "code",
      "source": [
        "x_traincnn.shape, x_testcnn.shape"
      ],
      "metadata": {
        "id": "q2SO3mktKvcT",
        "colab": {
          "base_uri": "https://localhost:8080/"
        },
        "outputId": "ba686385-f65a-498b-8825-e1b2a06c9e68"
      },
      "execution_count": null,
      "outputs": [
        {
          "output_type": "execute_result",
          "data": {
            "text/plain": [
              "((1744, 52, 1), (437, 52, 1))"
            ]
          },
          "metadata": {},
          "execution_count": 86
        }
      ]
    },
    {
      "cell_type": "code",
      "source": [
        "pip install keras"
      ],
      "metadata": {
        "id": "aMy2awvPLPLB",
        "colab": {
          "base_uri": "https://localhost:8080/"
        },
        "outputId": "d7473bb9-578d-4de0-ee68-c6b75bc8dafd"
      },
      "execution_count": null,
      "outputs": [
        {
          "output_type": "stream",
          "name": "stdout",
          "text": [
            "Requirement already satisfied: keras in /usr/local/lib/python3.7/dist-packages (2.8.0)\n"
          ]
        }
      ]
    },
    {
      "cell_type": "code",
      "source": [
        "pip install tensorflow"
      ],
      "metadata": {
        "id": "Opal6LinLahR",
        "colab": {
          "base_uri": "https://localhost:8080/"
        },
        "outputId": "3c6e210a-e839-4864-9737-44fd151a05b6"
      },
      "execution_count": null,
      "outputs": [
        {
          "output_type": "stream",
          "name": "stdout",
          "text": [
            "Requirement already satisfied: tensorflow in /usr/local/lib/python3.7/dist-packages (2.8.0)\n",
            "Requirement already satisfied: absl-py>=0.4.0 in /usr/local/lib/python3.7/dist-packages (from tensorflow) (1.0.0)\n",
            "Requirement already satisfied: astunparse>=1.6.0 in /usr/local/lib/python3.7/dist-packages (from tensorflow) (1.6.3)\n",
            "Requirement already satisfied: grpcio<2.0,>=1.24.3 in /usr/local/lib/python3.7/dist-packages (from tensorflow) (1.44.0)\n",
            "Requirement already satisfied: keras<2.9,>=2.8.0rc0 in /usr/local/lib/python3.7/dist-packages (from tensorflow) (2.8.0)\n",
            "Requirement already satisfied: numpy>=1.20 in /usr/local/lib/python3.7/dist-packages (from tensorflow) (1.21.6)\n",
            "Requirement already satisfied: libclang>=9.0.1 in /usr/local/lib/python3.7/dist-packages (from tensorflow) (13.0.0)\n",
            "Requirement already satisfied: tensorflow-io-gcs-filesystem>=0.23.1 in /usr/local/lib/python3.7/dist-packages (from tensorflow) (0.24.0)\n",
            "Requirement already satisfied: six>=1.12.0 in /usr/local/lib/python3.7/dist-packages (from tensorflow) (1.15.0)\n",
            "Requirement already satisfied: keras-preprocessing>=1.1.1 in /usr/local/lib/python3.7/dist-packages (from tensorflow) (1.1.2)\n",
            "Requirement already satisfied: gast>=0.2.1 in /usr/local/lib/python3.7/dist-packages (from tensorflow) (0.5.3)\n",
            "Requirement already satisfied: protobuf>=3.9.2 in /usr/local/lib/python3.7/dist-packages (from tensorflow) (3.17.3)\n",
            "Requirement already satisfied: termcolor>=1.1.0 in /usr/local/lib/python3.7/dist-packages (from tensorflow) (1.1.0)\n",
            "Requirement already satisfied: flatbuffers>=1.12 in /usr/local/lib/python3.7/dist-packages (from tensorflow) (2.0)\n",
            "Requirement already satisfied: typing-extensions>=3.6.6 in /usr/local/lib/python3.7/dist-packages (from tensorflow) (4.2.0)\n",
            "Requirement already satisfied: tensorboard<2.9,>=2.8 in /usr/local/lib/python3.7/dist-packages (from tensorflow) (2.8.0)\n",
            "Requirement already satisfied: setuptools in /usr/local/lib/python3.7/dist-packages (from tensorflow) (57.4.0)\n",
            "Collecting tf-estimator-nightly==2.8.0.dev2021122109\n",
            "  Downloading tf_estimator_nightly-2.8.0.dev2021122109-py2.py3-none-any.whl (462 kB)\n",
            "\u001b[K     |████████████████████████████████| 462 kB 5.0 MB/s \n",
            "\u001b[?25hRequirement already satisfied: wrapt>=1.11.0 in /usr/local/lib/python3.7/dist-packages (from tensorflow) (1.14.0)\n",
            "Requirement already satisfied: h5py>=2.9.0 in /usr/local/lib/python3.7/dist-packages (from tensorflow) (3.1.0)\n",
            "Requirement already satisfied: google-pasta>=0.1.1 in /usr/local/lib/python3.7/dist-packages (from tensorflow) (0.2.0)\n",
            "Requirement already satisfied: opt-einsum>=2.3.2 in /usr/local/lib/python3.7/dist-packages (from tensorflow) (3.3.0)\n",
            "Requirement already satisfied: wheel<1.0,>=0.23.0 in /usr/local/lib/python3.7/dist-packages (from astunparse>=1.6.0->tensorflow) (0.37.1)\n",
            "Requirement already satisfied: cached-property in /usr/local/lib/python3.7/dist-packages (from h5py>=2.9.0->tensorflow) (1.5.2)\n",
            "Requirement already satisfied: google-auth<3,>=1.6.3 in /usr/local/lib/python3.7/dist-packages (from tensorboard<2.9,>=2.8->tensorflow) (1.35.0)\n",
            "Requirement already satisfied: tensorboard-data-server<0.7.0,>=0.6.0 in /usr/local/lib/python3.7/dist-packages (from tensorboard<2.9,>=2.8->tensorflow) (0.6.1)\n",
            "Requirement already satisfied: markdown>=2.6.8 in /usr/local/lib/python3.7/dist-packages (from tensorboard<2.9,>=2.8->tensorflow) (3.3.6)\n",
            "Requirement already satisfied: google-auth-oauthlib<0.5,>=0.4.1 in /usr/local/lib/python3.7/dist-packages (from tensorboard<2.9,>=2.8->tensorflow) (0.4.6)\n",
            "Requirement already satisfied: tensorboard-plugin-wit>=1.6.0 in /usr/local/lib/python3.7/dist-packages (from tensorboard<2.9,>=2.8->tensorflow) (1.8.1)\n",
            "Requirement already satisfied: werkzeug>=0.11.15 in /usr/local/lib/python3.7/dist-packages (from tensorboard<2.9,>=2.8->tensorflow) (1.0.1)\n",
            "Requirement already satisfied: requests<3,>=2.21.0 in /usr/local/lib/python3.7/dist-packages (from tensorboard<2.9,>=2.8->tensorflow) (2.23.0)\n",
            "Requirement already satisfied: cachetools<5.0,>=2.0.0 in /usr/local/lib/python3.7/dist-packages (from google-auth<3,>=1.6.3->tensorboard<2.9,>=2.8->tensorflow) (4.2.4)\n",
            "Requirement already satisfied: rsa<5,>=3.1.4 in /usr/local/lib/python3.7/dist-packages (from google-auth<3,>=1.6.3->tensorboard<2.9,>=2.8->tensorflow) (4.8)\n",
            "Requirement already satisfied: pyasn1-modules>=0.2.1 in /usr/local/lib/python3.7/dist-packages (from google-auth<3,>=1.6.3->tensorboard<2.9,>=2.8->tensorflow) (0.2.8)\n",
            "Requirement already satisfied: requests-oauthlib>=0.7.0 in /usr/local/lib/python3.7/dist-packages (from google-auth-oauthlib<0.5,>=0.4.1->tensorboard<2.9,>=2.8->tensorflow) (1.3.1)\n",
            "Requirement already satisfied: importlib-metadata>=4.4 in /usr/local/lib/python3.7/dist-packages (from markdown>=2.6.8->tensorboard<2.9,>=2.8->tensorflow) (4.11.3)\n",
            "Requirement already satisfied: zipp>=0.5 in /usr/local/lib/python3.7/dist-packages (from importlib-metadata>=4.4->markdown>=2.6.8->tensorboard<2.9,>=2.8->tensorflow) (3.8.0)\n",
            "Requirement already satisfied: pyasn1<0.5.0,>=0.4.6 in /usr/local/lib/python3.7/dist-packages (from pyasn1-modules>=0.2.1->google-auth<3,>=1.6.3->tensorboard<2.9,>=2.8->tensorflow) (0.4.8)\n",
            "Requirement already satisfied: urllib3!=1.25.0,!=1.25.1,<1.26,>=1.21.1 in /usr/local/lib/python3.7/dist-packages (from requests<3,>=2.21.0->tensorboard<2.9,>=2.8->tensorflow) (1.24.3)\n",
            "Requirement already satisfied: certifi>=2017.4.17 in /usr/local/lib/python3.7/dist-packages (from requests<3,>=2.21.0->tensorboard<2.9,>=2.8->tensorflow) (2021.10.8)\n",
            "Requirement already satisfied: chardet<4,>=3.0.2 in /usr/local/lib/python3.7/dist-packages (from requests<3,>=2.21.0->tensorboard<2.9,>=2.8->tensorflow) (3.0.4)\n",
            "Requirement already satisfied: idna<3,>=2.5 in /usr/local/lib/python3.7/dist-packages (from requests<3,>=2.21.0->tensorboard<2.9,>=2.8->tensorflow) (2.10)\n",
            "Requirement already satisfied: oauthlib>=3.0.0 in /usr/local/lib/python3.7/dist-packages (from requests-oauthlib>=0.7.0->google-auth-oauthlib<0.5,>=0.4.1->tensorboard<2.9,>=2.8->tensorflow) (3.2.0)\n",
            "Installing collected packages: tf-estimator-nightly\n",
            "Successfully installed tf-estimator-nightly-2.8.0.dev2021122109\n"
          ]
        }
      ]
    },
    {
      "cell_type": "code",
      "source": [
        "import keras\n",
        "import numpy as np\n",
        "import matplotlib.pyplot as plt\n",
        "import tensorflow\n",
        "from keras.preprocessing import sequence\n",
        "from keras.models import Sequential\n",
        "from keras.layers import Dense, Embedding\n",
        "from tensorflow.keras.utils import to_categorical\n",
        "from keras.layers import Input, Flatten, Dropout, Activation\n",
        "from keras.layers import Conv1D, MaxPooling1D\n",
        "from keras.models import Model\n",
        "from keras.callbacks import ModelCheckpoint"
      ],
      "metadata": {
        "id": "4WTT7s-iK0lg"
      },
      "execution_count": null,
      "outputs": []
    },
    {
      "cell_type": "code",
      "source": [
        "from tensorflow import keras\n",
        "from keras import optimizers"
      ],
      "metadata": {
        "id": "Beb3oim0MSaN"
      },
      "execution_count": null,
      "outputs": []
    },
    {
      "cell_type": "code",
      "source": [
        "model = Sequential()\n",
        "\n",
        "model.add(Conv1D(64, 4,padding='same',\n",
        "                 input_shape=(52,1)))\n",
        "model.add(Activation('relu'))\n",
        "model.add(Dropout(0.1))\n",
        "model.add(MaxPooling1D(pool_size=(4)))\n",
        "model.add(Conv1D(128, 4,padding='same',))\n",
        "model.add(Activation('relu'))\n",
        "model.add(Dropout(0.1))\n",
        "model.add(MaxPooling1D(pool_size=(4)))\n",
        "model.add(Conv1D(256, 4,padding='same',))\n",
        "model.add(Activation('relu'))\n",
        "model.add(Dropout(0.1))\n",
        "model.add(Flatten())\n",
        "model.add(Dense(8))\n",
        "model.add(Activation('softmax'))\n",
        "opt = keras.optimizers.RMSprop(learning_rate=0.00005, rho=0.9, epsilon=1e-07, decay=0.0)"
      ],
      "metadata": {
        "id": "0nGLoaLXL09y"
      },
      "execution_count": null,
      "outputs": []
    },
    {
      "cell_type": "code",
      "source": [
        "model.summary()"
      ],
      "metadata": {
        "id": "FPYf2JIgM42e",
        "colab": {
          "base_uri": "https://localhost:8080/"
        },
        "outputId": "c94ece43-f1bf-4fa6-8321-9f2aa3795440"
      },
      "execution_count": null,
      "outputs": [
        {
          "output_type": "stream",
          "name": "stdout",
          "text": [
            "Model: \"sequential\"\n",
            "_________________________________________________________________\n",
            " Layer (type)                Output Shape              Param #   \n",
            "=================================================================\n",
            " conv1d (Conv1D)             (None, 52, 64)            320       \n",
            "                                                                 \n",
            " activation (Activation)     (None, 52, 64)            0         \n",
            "                                                                 \n",
            " dropout (Dropout)           (None, 52, 64)            0         \n",
            "                                                                 \n",
            " max_pooling1d (MaxPooling1D  (None, 13, 64)           0         \n",
            " )                                                               \n",
            "                                                                 \n",
            " conv1d_1 (Conv1D)           (None, 13, 128)           32896     \n",
            "                                                                 \n",
            " activation_1 (Activation)   (None, 13, 128)           0         \n",
            "                                                                 \n",
            " dropout_1 (Dropout)         (None, 13, 128)           0         \n",
            "                                                                 \n",
            " max_pooling1d_1 (MaxPooling  (None, 3, 128)           0         \n",
            " 1D)                                                             \n",
            "                                                                 \n",
            " conv1d_2 (Conv1D)           (None, 3, 256)            131328    \n",
            "                                                                 \n",
            " activation_2 (Activation)   (None, 3, 256)            0         \n",
            "                                                                 \n",
            " dropout_2 (Dropout)         (None, 3, 256)            0         \n",
            "                                                                 \n",
            " flatten (Flatten)           (None, 768)               0         \n",
            "                                                                 \n",
            " dense (Dense)               (None, 8)                 6152      \n",
            "                                                                 \n",
            " activation_3 (Activation)   (None, 8)                 0         \n",
            "                                                                 \n",
            "=================================================================\n",
            "Total params: 170,696\n",
            "Trainable params: 170,696\n",
            "Non-trainable params: 0\n",
            "_________________________________________________________________\n"
          ]
        }
      ]
    },
    {
      "cell_type": "code",
      "source": [
        "model.compile(loss='sparse_categorical_crossentropy',\n",
        "              optimizer=opt,\n",
        "              metrics=['accuracy'])"
      ],
      "metadata": {
        "id": "K_r1F4LeM-Ge"
      },
      "execution_count": null,
      "outputs": []
    },
    {
      "cell_type": "code",
      "source": [
        "cnnhistory=model.fit(x_traincnn, y_train, batch_size=16, epochs=200, validation_data=(x_testcnn, y_test))"
      ],
      "metadata": {
        "id": "Q73-qtVNM_J2",
        "colab": {
          "base_uri": "https://localhost:8080/"
        },
        "outputId": "ae2c8ba2-e12a-4ae5-8b60-313e9892ff5f"
      },
      "execution_count": null,
      "outputs": [
        {
          "output_type": "stream",
          "name": "stdout",
          "text": [
            "Epoch 1/200\n",
            "109/109 [==============================] - 5s 31ms/step - loss: 2.9113 - accuracy: 0.2970 - val_loss: 1.3998 - val_accuracy: 0.2563\n",
            "Epoch 2/200\n",
            "109/109 [==============================] - 3s 30ms/step - loss: 1.7088 - accuracy: 0.4295 - val_loss: 0.7808 - val_accuracy: 0.7735\n",
            "Epoch 3/200\n",
            "109/109 [==============================] - 3s 25ms/step - loss: 1.2275 - accuracy: 0.5493 - val_loss: 0.7218 - val_accuracy: 0.7941\n",
            "Epoch 4/200\n",
            "109/109 [==============================] - 3s 31ms/step - loss: 0.9439 - accuracy: 0.6456 - val_loss: 0.6837 - val_accuracy: 0.7231\n",
            "Epoch 5/200\n",
            "109/109 [==============================] - 2s 18ms/step - loss: 0.7288 - accuracy: 0.7282 - val_loss: 0.5356 - val_accuracy: 0.8101\n",
            "Epoch 6/200\n",
            "109/109 [==============================] - 2s 15ms/step - loss: 0.6090 - accuracy: 0.7781 - val_loss: 0.5297 - val_accuracy: 0.8215\n",
            "Epoch 7/200\n",
            "109/109 [==============================] - 2s 16ms/step - loss: 0.5755 - accuracy: 0.7947 - val_loss: 0.4442 - val_accuracy: 0.8238\n",
            "Epoch 8/200\n",
            "109/109 [==============================] - 2s 15ms/step - loss: 0.5205 - accuracy: 0.8062 - val_loss: 0.4359 - val_accuracy: 0.8375\n",
            "Epoch 9/200\n",
            "109/109 [==============================] - 2s 15ms/step - loss: 0.4756 - accuracy: 0.8308 - val_loss: 0.4109 - val_accuracy: 0.8467\n",
            "Epoch 10/200\n",
            "109/109 [==============================] - 2s 15ms/step - loss: 0.4376 - accuracy: 0.8372 - val_loss: 0.3919 - val_accuracy: 0.8558\n",
            "Epoch 11/200\n",
            "109/109 [==============================] - 2s 15ms/step - loss: 0.4048 - accuracy: 0.8503 - val_loss: 0.3678 - val_accuracy: 0.8673\n",
            "Epoch 12/200\n",
            "109/109 [==============================] - 2s 15ms/step - loss: 0.3964 - accuracy: 0.8509 - val_loss: 0.3468 - val_accuracy: 0.8673\n",
            "Epoch 13/200\n",
            "109/109 [==============================] - 2s 15ms/step - loss: 0.3716 - accuracy: 0.8601 - val_loss: 0.3331 - val_accuracy: 0.8673\n",
            "Epoch 14/200\n",
            "109/109 [==============================] - 2s 15ms/step - loss: 0.3628 - accuracy: 0.8624 - val_loss: 0.3323 - val_accuracy: 0.8719\n",
            "Epoch 15/200\n",
            "109/109 [==============================] - 2s 14ms/step - loss: 0.3449 - accuracy: 0.8641 - val_loss: 0.3114 - val_accuracy: 0.8741\n",
            "Epoch 16/200\n",
            "109/109 [==============================] - 2s 14ms/step - loss: 0.3326 - accuracy: 0.8802 - val_loss: 0.3009 - val_accuracy: 0.8810\n",
            "Epoch 17/200\n",
            "109/109 [==============================] - 2s 15ms/step - loss: 0.3214 - accuracy: 0.8796 - val_loss: 0.2888 - val_accuracy: 0.8764\n",
            "Epoch 18/200\n",
            "109/109 [==============================] - 2s 15ms/step - loss: 0.3163 - accuracy: 0.8813 - val_loss: 0.2892 - val_accuracy: 0.8947\n",
            "Epoch 19/200\n",
            "109/109 [==============================] - 2s 15ms/step - loss: 0.3095 - accuracy: 0.8870 - val_loss: 0.2672 - val_accuracy: 0.8947\n",
            "Epoch 20/200\n",
            "109/109 [==============================] - 2s 15ms/step - loss: 0.2962 - accuracy: 0.8905 - val_loss: 0.2635 - val_accuracy: 0.8947\n",
            "Epoch 21/200\n",
            "109/109 [==============================] - 2s 15ms/step - loss: 0.2814 - accuracy: 0.8882 - val_loss: 0.2615 - val_accuracy: 0.9130\n",
            "Epoch 22/200\n",
            "109/109 [==============================] - 2s 14ms/step - loss: 0.2839 - accuracy: 0.8945 - val_loss: 0.2616 - val_accuracy: 0.8924\n",
            "Epoch 23/200\n",
            "109/109 [==============================] - 2s 15ms/step - loss: 0.2766 - accuracy: 0.8956 - val_loss: 0.2530 - val_accuracy: 0.9016\n",
            "Epoch 24/200\n",
            "109/109 [==============================] - 2s 14ms/step - loss: 0.2626 - accuracy: 0.8939 - val_loss: 0.2431 - val_accuracy: 0.9085\n",
            "Epoch 25/200\n",
            "109/109 [==============================] - 2s 15ms/step - loss: 0.2529 - accuracy: 0.9042 - val_loss: 0.2395 - val_accuracy: 0.9222\n",
            "Epoch 26/200\n",
            "109/109 [==============================] - 2s 14ms/step - loss: 0.2483 - accuracy: 0.9008 - val_loss: 0.2420 - val_accuracy: 0.9016\n",
            "Epoch 27/200\n",
            "109/109 [==============================] - 2s 15ms/step - loss: 0.2442 - accuracy: 0.9077 - val_loss: 0.2308 - val_accuracy: 0.9176\n",
            "Epoch 28/200\n",
            "109/109 [==============================] - 2s 14ms/step - loss: 0.2389 - accuracy: 0.8997 - val_loss: 0.2243 - val_accuracy: 0.9153\n",
            "Epoch 29/200\n",
            "109/109 [==============================] - 2s 15ms/step - loss: 0.2372 - accuracy: 0.9077 - val_loss: 0.2461 - val_accuracy: 0.9016\n",
            "Epoch 30/200\n",
            "109/109 [==============================] - 2s 16ms/step - loss: 0.2382 - accuracy: 0.9151 - val_loss: 0.2276 - val_accuracy: 0.9108\n",
            "Epoch 31/200\n",
            "109/109 [==============================] - 2s 14ms/step - loss: 0.2214 - accuracy: 0.9197 - val_loss: 0.2159 - val_accuracy: 0.9153\n",
            "Epoch 32/200\n",
            "109/109 [==============================] - 2s 15ms/step - loss: 0.2225 - accuracy: 0.9100 - val_loss: 0.2212 - val_accuracy: 0.9222\n",
            "Epoch 33/200\n",
            "109/109 [==============================] - 2s 15ms/step - loss: 0.2191 - accuracy: 0.9169 - val_loss: 0.2107 - val_accuracy: 0.9153\n",
            "Epoch 34/200\n",
            "109/109 [==============================] - 2s 14ms/step - loss: 0.2111 - accuracy: 0.9186 - val_loss: 0.2186 - val_accuracy: 0.9130\n",
            "Epoch 35/200\n",
            "109/109 [==============================] - 2s 14ms/step - loss: 0.1989 - accuracy: 0.9174 - val_loss: 0.2235 - val_accuracy: 0.9108\n",
            "Epoch 36/200\n",
            "109/109 [==============================] - 2s 14ms/step - loss: 0.2188 - accuracy: 0.9117 - val_loss: 0.2085 - val_accuracy: 0.9153\n",
            "Epoch 37/200\n",
            "109/109 [==============================] - 2s 15ms/step - loss: 0.1964 - accuracy: 0.9237 - val_loss: 0.2005 - val_accuracy: 0.9222\n",
            "Epoch 38/200\n",
            "109/109 [==============================] - 2s 14ms/step - loss: 0.2045 - accuracy: 0.9226 - val_loss: 0.2037 - val_accuracy: 0.9268\n",
            "Epoch 39/200\n",
            "109/109 [==============================] - 2s 14ms/step - loss: 0.1999 - accuracy: 0.9209 - val_loss: 0.2013 - val_accuracy: 0.9291\n",
            "Epoch 40/200\n",
            "109/109 [==============================] - 2s 15ms/step - loss: 0.1851 - accuracy: 0.9283 - val_loss: 0.1918 - val_accuracy: 0.9108\n",
            "Epoch 41/200\n",
            "109/109 [==============================] - 2s 14ms/step - loss: 0.1679 - accuracy: 0.9369 - val_loss: 0.1920 - val_accuracy: 0.9108\n",
            "Epoch 42/200\n",
            "109/109 [==============================] - 2s 14ms/step - loss: 0.1842 - accuracy: 0.9255 - val_loss: 0.2043 - val_accuracy: 0.9199\n",
            "Epoch 43/200\n",
            "109/109 [==============================] - 2s 15ms/step - loss: 0.1887 - accuracy: 0.9306 - val_loss: 0.1981 - val_accuracy: 0.9153\n",
            "Epoch 44/200\n",
            "109/109 [==============================] - 2s 15ms/step - loss: 0.1842 - accuracy: 0.9283 - val_loss: 0.1965 - val_accuracy: 0.9130\n",
            "Epoch 45/200\n",
            "109/109 [==============================] - 2s 15ms/step - loss: 0.1814 - accuracy: 0.9289 - val_loss: 0.1902 - val_accuracy: 0.9199\n",
            "Epoch 46/200\n",
            "109/109 [==============================] - 2s 15ms/step - loss: 0.1909 - accuracy: 0.9300 - val_loss: 0.1817 - val_accuracy: 0.9222\n",
            "Epoch 47/200\n",
            "109/109 [==============================] - 2s 15ms/step - loss: 0.1744 - accuracy: 0.9289 - val_loss: 0.1859 - val_accuracy: 0.9222\n",
            "Epoch 48/200\n",
            "109/109 [==============================] - 2s 14ms/step - loss: 0.1698 - accuracy: 0.9341 - val_loss: 0.1744 - val_accuracy: 0.9291\n",
            "Epoch 49/200\n",
            "109/109 [==============================] - 2s 15ms/step - loss: 0.1674 - accuracy: 0.9364 - val_loss: 0.1743 - val_accuracy: 0.9268\n",
            "Epoch 50/200\n",
            "109/109 [==============================] - 2s 14ms/step - loss: 0.1598 - accuracy: 0.9404 - val_loss: 0.1776 - val_accuracy: 0.9222\n",
            "Epoch 51/200\n",
            "109/109 [==============================] - 2s 15ms/step - loss: 0.1593 - accuracy: 0.9329 - val_loss: 0.1878 - val_accuracy: 0.9199\n",
            "Epoch 52/200\n",
            "109/109 [==============================] - 2s 16ms/step - loss: 0.1452 - accuracy: 0.9444 - val_loss: 0.1737 - val_accuracy: 0.9291\n",
            "Epoch 53/200\n",
            "109/109 [==============================] - 2s 16ms/step - loss: 0.1578 - accuracy: 0.9415 - val_loss: 0.1781 - val_accuracy: 0.9336\n",
            "Epoch 54/200\n",
            "109/109 [==============================] - 2s 16ms/step - loss: 0.1673 - accuracy: 0.9346 - val_loss: 0.1676 - val_accuracy: 0.9222\n",
            "Epoch 55/200\n",
            "109/109 [==============================] - 2s 16ms/step - loss: 0.1491 - accuracy: 0.9421 - val_loss: 0.1746 - val_accuracy: 0.9314\n",
            "Epoch 56/200\n",
            "109/109 [==============================] - 2s 15ms/step - loss: 0.1702 - accuracy: 0.9283 - val_loss: 0.1753 - val_accuracy: 0.9314\n",
            "Epoch 57/200\n",
            "109/109 [==============================] - 2s 15ms/step - loss: 0.1500 - accuracy: 0.9421 - val_loss: 0.1782 - val_accuracy: 0.9199\n",
            "Epoch 58/200\n",
            "109/109 [==============================] - 2s 16ms/step - loss: 0.1494 - accuracy: 0.9381 - val_loss: 0.1628 - val_accuracy: 0.9314\n",
            "Epoch 59/200\n",
            "109/109 [==============================] - 2s 16ms/step - loss: 0.1596 - accuracy: 0.9375 - val_loss: 0.1674 - val_accuracy: 0.9291\n",
            "Epoch 60/200\n",
            "109/109 [==============================] - 2s 16ms/step - loss: 0.1558 - accuracy: 0.9409 - val_loss: 0.1691 - val_accuracy: 0.9176\n",
            "Epoch 61/200\n",
            "109/109 [==============================] - 2s 16ms/step - loss: 0.1496 - accuracy: 0.9404 - val_loss: 0.1666 - val_accuracy: 0.9245\n",
            "Epoch 62/200\n",
            "109/109 [==============================] - 2s 16ms/step - loss: 0.1490 - accuracy: 0.9386 - val_loss: 0.1644 - val_accuracy: 0.9291\n",
            "Epoch 63/200\n",
            "109/109 [==============================] - 2s 16ms/step - loss: 0.1498 - accuracy: 0.9392 - val_loss: 0.1657 - val_accuracy: 0.9291\n",
            "Epoch 64/200\n",
            "109/109 [==============================] - 2s 19ms/step - loss: 0.1382 - accuracy: 0.9472 - val_loss: 0.1647 - val_accuracy: 0.9359\n",
            "Epoch 65/200\n",
            "109/109 [==============================] - 2s 15ms/step - loss: 0.1340 - accuracy: 0.9490 - val_loss: 0.1734 - val_accuracy: 0.9291\n",
            "Epoch 66/200\n",
            "109/109 [==============================] - 2s 16ms/step - loss: 0.1444 - accuracy: 0.9472 - val_loss: 0.1603 - val_accuracy: 0.9314\n",
            "Epoch 67/200\n",
            "109/109 [==============================] - 2s 16ms/step - loss: 0.1300 - accuracy: 0.9513 - val_loss: 0.1584 - val_accuracy: 0.9336\n",
            "Epoch 68/200\n",
            "109/109 [==============================] - 2s 16ms/step - loss: 0.1420 - accuracy: 0.9455 - val_loss: 0.1572 - val_accuracy: 0.9291\n",
            "Epoch 69/200\n",
            "109/109 [==============================] - 2s 15ms/step - loss: 0.1284 - accuracy: 0.9501 - val_loss: 0.1628 - val_accuracy: 0.9359\n",
            "Epoch 70/200\n",
            "109/109 [==============================] - 2s 15ms/step - loss: 0.1259 - accuracy: 0.9547 - val_loss: 0.1687 - val_accuracy: 0.9382\n",
            "Epoch 71/200\n",
            "109/109 [==============================] - 2s 16ms/step - loss: 0.1239 - accuracy: 0.9472 - val_loss: 0.1564 - val_accuracy: 0.9314\n",
            "Epoch 72/200\n",
            "109/109 [==============================] - 2s 16ms/step - loss: 0.1283 - accuracy: 0.9507 - val_loss: 0.1480 - val_accuracy: 0.9382\n",
            "Epoch 73/200\n",
            "109/109 [==============================] - 2s 16ms/step - loss: 0.1325 - accuracy: 0.9536 - val_loss: 0.1513 - val_accuracy: 0.9382\n",
            "Epoch 74/200\n",
            "109/109 [==============================] - 2s 16ms/step - loss: 0.1254 - accuracy: 0.9478 - val_loss: 0.1639 - val_accuracy: 0.9428\n",
            "Epoch 75/200\n",
            "109/109 [==============================] - 2s 16ms/step - loss: 0.1166 - accuracy: 0.9530 - val_loss: 0.1542 - val_accuracy: 0.9291\n",
            "Epoch 76/200\n",
            "109/109 [==============================] - 2s 16ms/step - loss: 0.1347 - accuracy: 0.9507 - val_loss: 0.1510 - val_accuracy: 0.9314\n",
            "Epoch 77/200\n",
            "109/109 [==============================] - 2s 16ms/step - loss: 0.1161 - accuracy: 0.9507 - val_loss: 0.1544 - val_accuracy: 0.9359\n",
            "Epoch 78/200\n",
            "109/109 [==============================] - 2s 16ms/step - loss: 0.1117 - accuracy: 0.9593 - val_loss: 0.1442 - val_accuracy: 0.9405\n",
            "Epoch 79/200\n",
            "109/109 [==============================] - 2s 17ms/step - loss: 0.1209 - accuracy: 0.9541 - val_loss: 0.1590 - val_accuracy: 0.9382\n",
            "Epoch 80/200\n",
            "109/109 [==============================] - 2s 16ms/step - loss: 0.1222 - accuracy: 0.9536 - val_loss: 0.1549 - val_accuracy: 0.9336\n",
            "Epoch 81/200\n",
            "109/109 [==============================] - 2s 16ms/step - loss: 0.1252 - accuracy: 0.9570 - val_loss: 0.1496 - val_accuracy: 0.9314\n",
            "Epoch 82/200\n",
            "109/109 [==============================] - 2s 16ms/step - loss: 0.1239 - accuracy: 0.9530 - val_loss: 0.1559 - val_accuracy: 0.9382\n",
            "Epoch 83/200\n",
            "109/109 [==============================] - 2s 16ms/step - loss: 0.1226 - accuracy: 0.9484 - val_loss: 0.1465 - val_accuracy: 0.9382\n",
            "Epoch 84/200\n",
            "109/109 [==============================] - 2s 15ms/step - loss: 0.1226 - accuracy: 0.9530 - val_loss: 0.1452 - val_accuracy: 0.9359\n",
            "Epoch 85/200\n",
            "109/109 [==============================] - 2s 15ms/step - loss: 0.1172 - accuracy: 0.9564 - val_loss: 0.1760 - val_accuracy: 0.9359\n",
            "Epoch 86/200\n",
            "109/109 [==============================] - 2s 16ms/step - loss: 0.1118 - accuracy: 0.9604 - val_loss: 0.1478 - val_accuracy: 0.9314\n",
            "Epoch 87/200\n",
            "109/109 [==============================] - 2s 16ms/step - loss: 0.1107 - accuracy: 0.9558 - val_loss: 0.1471 - val_accuracy: 0.9451\n",
            "Epoch 88/200\n",
            "109/109 [==============================] - 2s 16ms/step - loss: 0.1051 - accuracy: 0.9581 - val_loss: 0.1655 - val_accuracy: 0.9314\n",
            "Epoch 89/200\n",
            "109/109 [==============================] - 2s 15ms/step - loss: 0.1210 - accuracy: 0.9553 - val_loss: 0.1428 - val_accuracy: 0.9382\n",
            "Epoch 90/200\n",
            "109/109 [==============================] - 2s 16ms/step - loss: 0.1124 - accuracy: 0.9558 - val_loss: 0.1408 - val_accuracy: 0.9359\n",
            "Epoch 91/200\n",
            "109/109 [==============================] - 2s 15ms/step - loss: 0.1058 - accuracy: 0.9587 - val_loss: 0.1378 - val_accuracy: 0.9428\n",
            "Epoch 92/200\n",
            "109/109 [==============================] - 2s 18ms/step - loss: 0.1047 - accuracy: 0.9610 - val_loss: 0.1410 - val_accuracy: 0.9359\n",
            "Epoch 93/200\n",
            "109/109 [==============================] - 2s 18ms/step - loss: 0.1075 - accuracy: 0.9558 - val_loss: 0.1519 - val_accuracy: 0.9336\n",
            "Epoch 94/200\n",
            "109/109 [==============================] - 2s 17ms/step - loss: 0.1180 - accuracy: 0.9564 - val_loss: 0.1404 - val_accuracy: 0.9497\n",
            "Epoch 95/200\n",
            "109/109 [==============================] - 2s 16ms/step - loss: 0.0989 - accuracy: 0.9616 - val_loss: 0.1370 - val_accuracy: 0.9336\n",
            "Epoch 96/200\n",
            "109/109 [==============================] - 2s 16ms/step - loss: 0.1070 - accuracy: 0.9576 - val_loss: 0.1401 - val_accuracy: 0.9405\n",
            "Epoch 97/200\n",
            "109/109 [==============================] - 2s 16ms/step - loss: 0.0956 - accuracy: 0.9639 - val_loss: 0.1320 - val_accuracy: 0.9382\n",
            "Epoch 98/200\n",
            "109/109 [==============================] - 2s 16ms/step - loss: 0.0958 - accuracy: 0.9644 - val_loss: 0.1361 - val_accuracy: 0.9428\n",
            "Epoch 99/200\n",
            "109/109 [==============================] - 2s 16ms/step - loss: 0.0943 - accuracy: 0.9644 - val_loss: 0.1507 - val_accuracy: 0.9291\n",
            "Epoch 100/200\n",
            "109/109 [==============================] - 2s 16ms/step - loss: 0.0910 - accuracy: 0.9633 - val_loss: 0.1285 - val_accuracy: 0.9428\n",
            "Epoch 101/200\n",
            "109/109 [==============================] - 2s 16ms/step - loss: 0.0942 - accuracy: 0.9644 - val_loss: 0.1354 - val_accuracy: 0.9405\n",
            "Epoch 102/200\n",
            "109/109 [==============================] - 2s 17ms/step - loss: 0.0927 - accuracy: 0.9656 - val_loss: 0.1381 - val_accuracy: 0.9474\n",
            "Epoch 103/200\n",
            "109/109 [==============================] - 2s 15ms/step - loss: 0.0888 - accuracy: 0.9662 - val_loss: 0.1396 - val_accuracy: 0.9405\n",
            "Epoch 104/200\n",
            "109/109 [==============================] - 2s 16ms/step - loss: 0.0933 - accuracy: 0.9616 - val_loss: 0.1332 - val_accuracy: 0.9428\n",
            "Epoch 105/200\n",
            "109/109 [==============================] - 2s 15ms/step - loss: 0.0879 - accuracy: 0.9627 - val_loss: 0.1251 - val_accuracy: 0.9428\n",
            "Epoch 106/200\n",
            "109/109 [==============================] - 2s 15ms/step - loss: 0.0905 - accuracy: 0.9650 - val_loss: 0.1434 - val_accuracy: 0.9428\n",
            "Epoch 107/200\n",
            "109/109 [==============================] - 2s 16ms/step - loss: 0.0978 - accuracy: 0.9622 - val_loss: 0.1313 - val_accuracy: 0.9405\n",
            "Epoch 108/200\n",
            "109/109 [==============================] - 2s 15ms/step - loss: 0.0837 - accuracy: 0.9644 - val_loss: 0.1476 - val_accuracy: 0.9359\n",
            "Epoch 109/200\n",
            "109/109 [==============================] - 2s 16ms/step - loss: 0.0994 - accuracy: 0.9610 - val_loss: 0.1278 - val_accuracy: 0.9451\n",
            "Epoch 110/200\n",
            "109/109 [==============================] - 2s 15ms/step - loss: 0.0836 - accuracy: 0.9696 - val_loss: 0.1434 - val_accuracy: 0.9359\n",
            "Epoch 111/200\n",
            "109/109 [==============================] - 2s 15ms/step - loss: 0.1026 - accuracy: 0.9593 - val_loss: 0.1364 - val_accuracy: 0.9497\n",
            "Epoch 112/200\n",
            "109/109 [==============================] - 2s 15ms/step - loss: 0.0958 - accuracy: 0.9610 - val_loss: 0.1342 - val_accuracy: 0.9428\n",
            "Epoch 113/200\n",
            "109/109 [==============================] - 2s 16ms/step - loss: 0.0985 - accuracy: 0.9622 - val_loss: 0.1331 - val_accuracy: 0.9428\n",
            "Epoch 114/200\n",
            "109/109 [==============================] - 2s 15ms/step - loss: 0.0820 - accuracy: 0.9679 - val_loss: 0.1285 - val_accuracy: 0.9474\n",
            "Epoch 115/200\n",
            "109/109 [==============================] - 2s 15ms/step - loss: 0.0904 - accuracy: 0.9656 - val_loss: 0.1307 - val_accuracy: 0.9451\n",
            "Epoch 116/200\n",
            "109/109 [==============================] - 2s 15ms/step - loss: 0.0801 - accuracy: 0.9679 - val_loss: 0.1213 - val_accuracy: 0.9474\n",
            "Epoch 117/200\n",
            "109/109 [==============================] - 2s 16ms/step - loss: 0.0783 - accuracy: 0.9690 - val_loss: 0.1346 - val_accuracy: 0.9451\n",
            "Epoch 118/200\n",
            "109/109 [==============================] - 2s 16ms/step - loss: 0.0810 - accuracy: 0.9679 - val_loss: 0.1224 - val_accuracy: 0.9474\n",
            "Epoch 119/200\n",
            "109/109 [==============================] - 2s 15ms/step - loss: 0.0857 - accuracy: 0.9662 - val_loss: 0.1239 - val_accuracy: 0.9497\n",
            "Epoch 120/200\n",
            "109/109 [==============================] - 2s 15ms/step - loss: 0.0907 - accuracy: 0.9644 - val_loss: 0.1249 - val_accuracy: 0.9497\n",
            "Epoch 121/200\n",
            "109/109 [==============================] - 2s 15ms/step - loss: 0.0884 - accuracy: 0.9673 - val_loss: 0.1234 - val_accuracy: 0.9497\n",
            "Epoch 122/200\n",
            "109/109 [==============================] - 2s 15ms/step - loss: 0.0781 - accuracy: 0.9702 - val_loss: 0.1325 - val_accuracy: 0.9519\n",
            "Epoch 123/200\n",
            "109/109 [==============================] - 2s 15ms/step - loss: 0.0771 - accuracy: 0.9690 - val_loss: 0.1329 - val_accuracy: 0.9428\n",
            "Epoch 124/200\n",
            "109/109 [==============================] - 2s 14ms/step - loss: 0.0800 - accuracy: 0.9713 - val_loss: 0.1249 - val_accuracy: 0.9451\n",
            "Epoch 125/200\n",
            "109/109 [==============================] - 2s 15ms/step - loss: 0.0785 - accuracy: 0.9696 - val_loss: 0.1409 - val_accuracy: 0.9428\n",
            "Epoch 126/200\n",
            "109/109 [==============================] - 2s 15ms/step - loss: 0.0696 - accuracy: 0.9731 - val_loss: 0.1168 - val_accuracy: 0.9474\n",
            "Epoch 127/200\n",
            "109/109 [==============================] - 2s 15ms/step - loss: 0.0782 - accuracy: 0.9679 - val_loss: 0.1352 - val_accuracy: 0.9428\n",
            "Epoch 128/200\n",
            "109/109 [==============================] - 2s 16ms/step - loss: 0.0751 - accuracy: 0.9679 - val_loss: 0.1367 - val_accuracy: 0.9451\n",
            "Epoch 129/200\n",
            "109/109 [==============================] - 2s 15ms/step - loss: 0.0803 - accuracy: 0.9673 - val_loss: 0.1296 - val_accuracy: 0.9519\n",
            "Epoch 130/200\n",
            "109/109 [==============================] - 2s 15ms/step - loss: 0.0811 - accuracy: 0.9679 - val_loss: 0.1256 - val_accuracy: 0.9565\n",
            "Epoch 131/200\n",
            "109/109 [==============================] - 2s 15ms/step - loss: 0.0783 - accuracy: 0.9713 - val_loss: 0.1381 - val_accuracy: 0.9542\n",
            "Epoch 132/200\n",
            "109/109 [==============================] - 2s 16ms/step - loss: 0.0721 - accuracy: 0.9679 - val_loss: 0.1242 - val_accuracy: 0.9519\n",
            "Epoch 133/200\n",
            "109/109 [==============================] - 2s 15ms/step - loss: 0.0665 - accuracy: 0.9765 - val_loss: 0.1202 - val_accuracy: 0.9497\n",
            "Epoch 134/200\n",
            "109/109 [==============================] - 2s 16ms/step - loss: 0.0688 - accuracy: 0.9702 - val_loss: 0.1268 - val_accuracy: 0.9451\n",
            "Epoch 135/200\n",
            "109/109 [==============================] - 2s 15ms/step - loss: 0.0794 - accuracy: 0.9673 - val_loss: 0.1155 - val_accuracy: 0.9519\n",
            "Epoch 136/200\n",
            "109/109 [==============================] - 2s 15ms/step - loss: 0.0721 - accuracy: 0.9690 - val_loss: 0.1286 - val_accuracy: 0.9519\n",
            "Epoch 137/200\n",
            "109/109 [==============================] - 2s 15ms/step - loss: 0.0749 - accuracy: 0.9708 - val_loss: 0.1204 - val_accuracy: 0.9565\n",
            "Epoch 138/200\n",
            "109/109 [==============================] - 2s 15ms/step - loss: 0.0717 - accuracy: 0.9736 - val_loss: 0.1135 - val_accuracy: 0.9588\n",
            "Epoch 139/200\n",
            "109/109 [==============================] - 2s 15ms/step - loss: 0.0731 - accuracy: 0.9765 - val_loss: 0.1228 - val_accuracy: 0.9611\n",
            "Epoch 140/200\n",
            "109/109 [==============================] - 2s 15ms/step - loss: 0.0581 - accuracy: 0.9759 - val_loss: 0.1316 - val_accuracy: 0.9542\n",
            "Epoch 141/200\n",
            "109/109 [==============================] - 2s 16ms/step - loss: 0.0629 - accuracy: 0.9685 - val_loss: 0.1128 - val_accuracy: 0.9519\n",
            "Epoch 142/200\n",
            "109/109 [==============================] - 2s 15ms/step - loss: 0.0635 - accuracy: 0.9805 - val_loss: 0.1188 - val_accuracy: 0.9542\n",
            "Epoch 143/200\n",
            "109/109 [==============================] - 2s 15ms/step - loss: 0.0670 - accuracy: 0.9753 - val_loss: 0.1190 - val_accuracy: 0.9474\n",
            "Epoch 144/200\n",
            "109/109 [==============================] - 2s 15ms/step - loss: 0.0638 - accuracy: 0.9731 - val_loss: 0.1179 - val_accuracy: 0.9519\n",
            "Epoch 145/200\n",
            "109/109 [==============================] - 2s 15ms/step - loss: 0.0641 - accuracy: 0.9782 - val_loss: 0.1249 - val_accuracy: 0.9565\n",
            "Epoch 146/200\n",
            "109/109 [==============================] - 2s 15ms/step - loss: 0.0791 - accuracy: 0.9696 - val_loss: 0.1245 - val_accuracy: 0.9519\n",
            "Epoch 147/200\n",
            "109/109 [==============================] - 2s 15ms/step - loss: 0.0697 - accuracy: 0.9742 - val_loss: 0.1219 - val_accuracy: 0.9565\n",
            "Epoch 148/200\n",
            "109/109 [==============================] - 2s 16ms/step - loss: 0.0808 - accuracy: 0.9708 - val_loss: 0.1213 - val_accuracy: 0.9519\n",
            "Epoch 149/200\n",
            "109/109 [==============================] - 2s 17ms/step - loss: 0.0695 - accuracy: 0.9725 - val_loss: 0.1355 - val_accuracy: 0.9336\n",
            "Epoch 150/200\n",
            "109/109 [==============================] - 2s 17ms/step - loss: 0.0560 - accuracy: 0.9776 - val_loss: 0.1409 - val_accuracy: 0.9451\n",
            "Epoch 151/200\n",
            "109/109 [==============================] - 2s 17ms/step - loss: 0.0603 - accuracy: 0.9805 - val_loss: 0.1170 - val_accuracy: 0.9451\n",
            "Epoch 152/200\n",
            "109/109 [==============================] - 2s 16ms/step - loss: 0.0586 - accuracy: 0.9776 - val_loss: 0.1242 - val_accuracy: 0.9542\n",
            "Epoch 153/200\n",
            "109/109 [==============================] - 2s 17ms/step - loss: 0.0611 - accuracy: 0.9748 - val_loss: 0.1239 - val_accuracy: 0.9451\n",
            "Epoch 154/200\n",
            "109/109 [==============================] - 2s 17ms/step - loss: 0.0662 - accuracy: 0.9736 - val_loss: 0.1347 - val_accuracy: 0.9314\n",
            "Epoch 155/200\n",
            "109/109 [==============================] - 2s 17ms/step - loss: 0.0566 - accuracy: 0.9788 - val_loss: 0.1311 - val_accuracy: 0.9474\n",
            "Epoch 156/200\n",
            "109/109 [==============================] - 2s 17ms/step - loss: 0.0524 - accuracy: 0.9771 - val_loss: 0.1356 - val_accuracy: 0.9382\n",
            "Epoch 157/200\n",
            "109/109 [==============================] - 2s 17ms/step - loss: 0.0562 - accuracy: 0.9771 - val_loss: 0.1291 - val_accuracy: 0.9428\n",
            "Epoch 158/200\n",
            "109/109 [==============================] - 2s 16ms/step - loss: 0.0559 - accuracy: 0.9782 - val_loss: 0.1447 - val_accuracy: 0.9359\n",
            "Epoch 159/200\n",
            "109/109 [==============================] - 2s 17ms/step - loss: 0.0519 - accuracy: 0.9794 - val_loss: 0.1257 - val_accuracy: 0.9497\n",
            "Epoch 160/200\n",
            "109/109 [==============================] - 2s 16ms/step - loss: 0.0588 - accuracy: 0.9771 - val_loss: 0.1201 - val_accuracy: 0.9611\n",
            "Epoch 161/200\n",
            "109/109 [==============================] - 2s 16ms/step - loss: 0.0653 - accuracy: 0.9708 - val_loss: 0.1212 - val_accuracy: 0.9588\n",
            "Epoch 162/200\n",
            "109/109 [==============================] - 2s 16ms/step - loss: 0.0562 - accuracy: 0.9794 - val_loss: 0.1152 - val_accuracy: 0.9519\n",
            "Epoch 163/200\n",
            "109/109 [==============================] - 2s 17ms/step - loss: 0.0594 - accuracy: 0.9776 - val_loss: 0.1120 - val_accuracy: 0.9542\n",
            "Epoch 164/200\n",
            "109/109 [==============================] - 2s 17ms/step - loss: 0.0666 - accuracy: 0.9753 - val_loss: 0.1236 - val_accuracy: 0.9519\n",
            "Epoch 165/200\n",
            "109/109 [==============================] - 2s 17ms/step - loss: 0.0590 - accuracy: 0.9794 - val_loss: 0.1302 - val_accuracy: 0.9588\n",
            "Epoch 166/200\n",
            "109/109 [==============================] - 2s 17ms/step - loss: 0.0452 - accuracy: 0.9839 - val_loss: 0.1165 - val_accuracy: 0.9565\n",
            "Epoch 167/200\n",
            "109/109 [==============================] - 2s 16ms/step - loss: 0.0459 - accuracy: 0.9828 - val_loss: 0.1237 - val_accuracy: 0.9519\n",
            "Epoch 168/200\n",
            "109/109 [==============================] - 2s 16ms/step - loss: 0.0538 - accuracy: 0.9776 - val_loss: 0.1157 - val_accuracy: 0.9497\n",
            "Epoch 169/200\n",
            "109/109 [==============================] - 2s 17ms/step - loss: 0.0689 - accuracy: 0.9753 - val_loss: 0.1344 - val_accuracy: 0.9405\n",
            "Epoch 170/200\n",
            "109/109 [==============================] - 2s 17ms/step - loss: 0.0480 - accuracy: 0.9799 - val_loss: 0.1303 - val_accuracy: 0.9497\n",
            "Epoch 171/200\n",
            "109/109 [==============================] - 2s 17ms/step - loss: 0.0520 - accuracy: 0.9805 - val_loss: 0.1235 - val_accuracy: 0.9542\n",
            "Epoch 172/200\n",
            "109/109 [==============================] - 2s 18ms/step - loss: 0.0579 - accuracy: 0.9759 - val_loss: 0.1308 - val_accuracy: 0.9542\n",
            "Epoch 173/200\n",
            "109/109 [==============================] - 2s 16ms/step - loss: 0.0497 - accuracy: 0.9799 - val_loss: 0.1231 - val_accuracy: 0.9542\n",
            "Epoch 174/200\n",
            "109/109 [==============================] - 2s 17ms/step - loss: 0.0570 - accuracy: 0.9776 - val_loss: 0.1327 - val_accuracy: 0.9451\n",
            "Epoch 175/200\n",
            "109/109 [==============================] - 2s 17ms/step - loss: 0.0569 - accuracy: 0.9771 - val_loss: 0.1177 - val_accuracy: 0.9474\n",
            "Epoch 176/200\n",
            "109/109 [==============================] - 2s 17ms/step - loss: 0.0497 - accuracy: 0.9811 - val_loss: 0.1145 - val_accuracy: 0.9542\n",
            "Epoch 177/200\n",
            "109/109 [==============================] - 2s 16ms/step - loss: 0.0476 - accuracy: 0.9834 - val_loss: 0.1264 - val_accuracy: 0.9611\n",
            "Epoch 178/200\n",
            "109/109 [==============================] - 2s 17ms/step - loss: 0.0488 - accuracy: 0.9834 - val_loss: 0.1290 - val_accuracy: 0.9451\n",
            "Epoch 179/200\n",
            "109/109 [==============================] - 2s 17ms/step - loss: 0.0507 - accuracy: 0.9799 - val_loss: 0.1376 - val_accuracy: 0.9405\n",
            "Epoch 180/200\n",
            "109/109 [==============================] - 2s 16ms/step - loss: 0.0491 - accuracy: 0.9828 - val_loss: 0.1264 - val_accuracy: 0.9497\n",
            "Epoch 181/200\n",
            "109/109 [==============================] - 2s 16ms/step - loss: 0.0544 - accuracy: 0.9822 - val_loss: 0.1301 - val_accuracy: 0.9451\n",
            "Epoch 182/200\n",
            "109/109 [==============================] - 2s 17ms/step - loss: 0.0414 - accuracy: 0.9817 - val_loss: 0.1323 - val_accuracy: 0.9451\n",
            "Epoch 183/200\n",
            "109/109 [==============================] - 2s 17ms/step - loss: 0.0561 - accuracy: 0.9794 - val_loss: 0.1213 - val_accuracy: 0.9634\n",
            "Epoch 184/200\n",
            "109/109 [==============================] - 2s 17ms/step - loss: 0.0557 - accuracy: 0.9811 - val_loss: 0.1358 - val_accuracy: 0.9497\n",
            "Epoch 185/200\n",
            "109/109 [==============================] - 2s 16ms/step - loss: 0.0443 - accuracy: 0.9811 - val_loss: 0.1171 - val_accuracy: 0.9519\n",
            "Epoch 186/200\n",
            "109/109 [==============================] - 2s 17ms/step - loss: 0.0431 - accuracy: 0.9811 - val_loss: 0.1105 - val_accuracy: 0.9542\n",
            "Epoch 187/200\n",
            "109/109 [==============================] - 2s 16ms/step - loss: 0.0513 - accuracy: 0.9822 - val_loss: 0.1160 - val_accuracy: 0.9634\n",
            "Epoch 188/200\n",
            "109/109 [==============================] - 2s 15ms/step - loss: 0.0406 - accuracy: 0.9857 - val_loss: 0.1184 - val_accuracy: 0.9588\n",
            "Epoch 189/200\n",
            "109/109 [==============================] - 2s 16ms/step - loss: 0.0439 - accuracy: 0.9839 - val_loss: 0.1200 - val_accuracy: 0.9474\n",
            "Epoch 190/200\n",
            "109/109 [==============================] - 2s 17ms/step - loss: 0.0533 - accuracy: 0.9817 - val_loss: 0.1271 - val_accuracy: 0.9428\n",
            "Epoch 191/200\n",
            "109/109 [==============================] - 2s 16ms/step - loss: 0.0438 - accuracy: 0.9834 - val_loss: 0.1179 - val_accuracy: 0.9474\n",
            "Epoch 192/200\n",
            "109/109 [==============================] - 2s 16ms/step - loss: 0.0478 - accuracy: 0.9822 - val_loss: 0.1081 - val_accuracy: 0.9542\n",
            "Epoch 193/200\n",
            "109/109 [==============================] - 2s 17ms/step - loss: 0.0459 - accuracy: 0.9822 - val_loss: 0.1243 - val_accuracy: 0.9451\n",
            "Epoch 194/200\n",
            "109/109 [==============================] - 2s 17ms/step - loss: 0.0432 - accuracy: 0.9834 - val_loss: 0.1278 - val_accuracy: 0.9519\n",
            "Epoch 195/200\n",
            "109/109 [==============================] - 2s 16ms/step - loss: 0.0521 - accuracy: 0.9799 - val_loss: 0.1203 - val_accuracy: 0.9519\n",
            "Epoch 196/200\n",
            "109/109 [==============================] - 2s 16ms/step - loss: 0.0406 - accuracy: 0.9845 - val_loss: 0.1170 - val_accuracy: 0.9565\n",
            "Epoch 197/200\n",
            "109/109 [==============================] - 2s 16ms/step - loss: 0.0409 - accuracy: 0.9817 - val_loss: 0.1288 - val_accuracy: 0.9451\n",
            "Epoch 198/200\n",
            "109/109 [==============================] - 2s 16ms/step - loss: 0.0407 - accuracy: 0.9839 - val_loss: 0.1235 - val_accuracy: 0.9519\n",
            "Epoch 199/200\n",
            "109/109 [==============================] - 2s 15ms/step - loss: 0.0388 - accuracy: 0.9857 - val_loss: 0.1108 - val_accuracy: 0.9634\n",
            "Epoch 200/200\n",
            "109/109 [==============================] - 2s 15ms/step - loss: 0.0367 - accuracy: 0.9862 - val_loss: 0.1198 - val_accuracy: 0.9542\n"
          ]
        }
      ]
    },
    {
      "cell_type": "code",
      "source": [
        "plt.plot(cnnhistory.history['loss'])\n",
        "plt.plot(cnnhistory.history['val_loss'])\n",
        "plt.title('model loss')\n",
        "plt.ylabel('loss')\n",
        "plt.xlabel('epoch')\n",
        "plt.legend(['train', 'test'], loc='upper left')\n",
        "plt.show()"
      ],
      "metadata": {
        "id": "3xMdBcq1V8W_",
        "colab": {
          "base_uri": "https://localhost:8080/",
          "height": 295
        },
        "outputId": "20d824cf-0c28-4c67-da70-c8e0d6f3d309"
      },
      "execution_count": null,
      "outputs": [
        {
          "output_type": "display_data",
          "data": {
            "text/plain": [
              "<Figure size 432x288 with 1 Axes>"
            ],
            "image/png": "[encoded data removed]"
          },
          "metadata": {
            "needs_background": "light"
          }
        }
      ]
    },
    {
      "cell_type": "code",
      "source": [
        "plt.plot(cnnhistory.history['accuracy'])\n",
        "plt.plot(cnnhistory.history['val_accuracy'])\n",
        "plt.title('model accuracy')\n",
        "plt.ylabel('accuracy')\n",
        "plt.xlabel('epoch')\n",
        "plt.legend(['train', 'test'], loc='upper left')\n",
        "plt.show()"
      ],
      "metadata": {
        "id": "kmDA9fV1V8kE",
        "colab": {
          "base_uri": "https://localhost:8080/",
          "height": 295
        },
        "outputId": "53bcdf30-a5e2-43a2-9bd3-420051287c1b"
      },
      "execution_count": null,
      "outputs": [
        {
          "output_type": "display_data",
          "data": {
            "text/plain": [
              "<Figure size 432x288 with 1 Axes>"
            ],
            "image/png": "[encoded data removed]"
          },
          "metadata": {
            "needs_background": "light"
          }
        }
      ]
    },
    {
      "cell_type": "code",
      "source": [
        "# predictions = model.predict_classes(x_testcnn)\n",
        "# predictions = (model.predict(X_test) > 0.5).astype(\"int32\")\n",
        "predict_x=model.predict(X_test)\n",
        "predictions=np.argmax(predict_x,axis=1)\n"
      ],
      "metadata": {
        "id": "hUc-Iar4N2Zl"
      },
      "execution_count": null,
      "outputs": []
    },
    {
      "cell_type": "code",
      "source": [
        "predictions"
      ],
      "metadata": {
        "id": "8z_DM5FqN5z-",
        "colab": {
          "base_uri": "https://localhost:8080/"
        },
        "outputId": "2f5f231b-c194-432b-d8b4-20525e3175f8"
      },
      "execution_count": null,
      "outputs": [
        {
          "output_type": "execute_result",
          "data": {
            "text/plain": [
              "array([3, 1, 0, 2, 3, 1, 1, 3, 0, 2, 2, 1, 3, 1, 3, 2, 3, 3, 0, 1, 2, 1,\n",
              "       1, 0, 1, 1, 0, 3, 3, 1, 1, 0, 1, 1, 3, 3, 1, 2, 2, 2, 2, 1, 2, 1,\n",
              "       3, 0, 1, 2, 2, 2, 1, 3, 2, 2, 0, 3, 2, 2, 3, 3, 1, 3, 1, 1, 1, 0,\n",
              "       2, 1, 2, 3, 0, 0, 3, 2, 3, 2, 3, 2, 1, 3, 3, 3, 2, 0, 1, 0, 1, 2,\n",
              "       3, 1, 2, 0, 0, 0, 1, 1, 2, 0, 2, 0, 0, 1, 2, 0, 3, 1, 1, 3, 1, 1,\n",
              "       3, 0, 1, 3, 2, 1, 3, 0, 0, 0, 2, 2, 1, 0, 1, 2, 2, 1, 3, 0, 2, 1,\n",
              "       0, 2, 3, 1, 0, 0, 3, 3, 1, 0, 2, 2, 0, 1, 1, 2, 1, 2, 2, 3, 0, 1,\n",
              "       0, 0, 1, 3, 0, 2, 1, 3, 3, 2, 0, 1, 0, 3, 3, 2, 0, 2, 3, 0, 2, 3,\n",
              "       2, 2, 1, 3, 2, 0, 1, 0, 0, 0, 1, 3, 0, 1, 0, 0, 3, 3, 2, 1, 3, 2,\n",
              "       3, 3, 1, 3, 1, 2, 2, 3, 3, 0, 2, 2, 0, 0, 2, 1, 2, 2, 0, 1, 0, 2,\n",
              "       1, 0, 2, 3, 0, 2, 1, 3, 0, 3, 0, 1, 1, 2, 0, 0, 2, 0, 3, 3, 2, 3,\n",
              "       3, 3, 0, 1, 1, 2, 2, 1, 0, 1, 1, 1, 3, 0, 0, 2, 2, 1, 1, 2, 0, 0,\n",
              "       2, 1, 2, 1, 2, 1, 1, 1, 0, 1, 0, 3, 0, 0, 2, 0, 2, 0, 1, 2, 2, 2,\n",
              "       2, 2, 0, 1, 1, 3, 3, 2, 0, 0, 0, 2, 2, 2, 2, 1, 1, 0, 2, 3, 0, 0,\n",
              "       2, 0, 1, 1, 2, 2, 1, 3, 1, 2, 2, 1, 3, 3, 2, 2, 0, 3, 0, 0, 0, 3,\n",
              "       3, 0, 1, 2, 3, 1, 3, 0, 2, 3, 1, 2, 2, 0, 0, 0, 2, 1, 1, 1, 2, 3,\n",
              "       3, 0, 0, 1, 3, 0, 2, 3, 0, 3, 0, 3, 0, 2, 0, 3, 1, 1, 3, 3, 2, 0,\n",
              "       2, 3, 3, 3, 2, 1, 1, 2, 3, 1, 0, 1, 1, 3, 0, 2, 1, 3, 2, 2, 0, 3,\n",
              "       0, 0, 3, 2, 3, 0, 1, 3, 0, 3, 2, 3, 1, 2, 2, 1, 2, 1, 3, 1, 1, 0,\n",
              "       1, 2, 3, 3, 2, 3, 2, 3, 2, 3, 0, 0, 2, 1, 2, 0, 3, 3, 0])"
            ]
          },
          "metadata": {},
          "execution_count": 98
        }
      ]
    },
    {
      "cell_type": "code",
      "source": [
        "y_test"
      ],
      "metadata": {
        "id": "-44svmakOfAU",
        "colab": {
          "base_uri": "https://localhost:8080/"
        },
        "outputId": "075eb58c-074d-4d5f-e4a0-a26bdaa8d5b4"
      },
      "execution_count": null,
      "outputs": [
        {
          "output_type": "execute_result",
          "data": {
            "text/plain": [
              "array([3, 1, 0, 2, 3, 1, 1, 3, 0, 2, 2, 0, 3, 1, 3, 2, 3, 3, 0, 1, 2, 1,\n",
              "       1, 3, 1, 1, 0, 3, 3, 1, 1, 0, 1, 1, 3, 3, 1, 2, 2, 2, 2, 1, 2, 1,\n",
              "       3, 0, 1, 2, 2, 2, 1, 3, 2, 2, 0, 3, 2, 2, 3, 3, 1, 3, 1, 1, 1, 0,\n",
              "       2, 1, 2, 3, 0, 0, 3, 2, 3, 2, 3, 2, 1, 3, 3, 3, 2, 0, 2, 0, 1, 1,\n",
              "       3, 1, 2, 0, 0, 0, 2, 1, 2, 0, 2, 0, 0, 1, 2, 0, 3, 1, 1, 3, 1, 1,\n",
              "       3, 0, 1, 3, 2, 1, 3, 0, 0, 0, 2, 2, 1, 0, 1, 2, 2, 1, 3, 0, 2, 1,\n",
              "       0, 2, 3, 0, 0, 0, 3, 3, 1, 0, 2, 2, 0, 1, 1, 2, 1, 2, 2, 3, 3, 1,\n",
              "       0, 0, 1, 0, 0, 2, 1, 3, 3, 2, 0, 1, 0, 3, 3, 2, 0, 2, 3, 0, 2, 3,\n",
              "       2, 2, 1, 3, 2, 0, 1, 0, 0, 0, 1, 3, 0, 1, 0, 0, 3, 3, 2, 1, 3, 2,\n",
              "       3, 3, 1, 3, 1, 2, 2, 3, 3, 0, 2, 2, 0, 0, 2, 3, 2, 2, 0, 1, 0, 1,\n",
              "       1, 0, 2, 3, 0, 2, 2, 3, 0, 3, 0, 1, 2, 2, 0, 0, 2, 0, 3, 3, 2, 3,\n",
              "       3, 3, 0, 1, 1, 2, 2, 1, 0, 1, 1, 1, 3, 0, 0, 2, 2, 1, 1, 2, 0, 0,\n",
              "       2, 1, 2, 1, 2, 1, 2, 1, 0, 1, 0, 3, 0, 0, 2, 0, 2, 0, 1, 2, 2, 2,\n",
              "       2, 2, 0, 1, 1, 3, 3, 2, 0, 0, 0, 2, 2, 1, 2, 1, 1, 0, 2, 3, 0, 0,\n",
              "       2, 0, 1, 2, 2, 2, 1, 3, 1, 2, 2, 1, 3, 3, 2, 2, 0, 3, 0, 0, 0, 3,\n",
              "       3, 0, 1, 2, 3, 1, 3, 0, 2, 3, 1, 2, 2, 0, 0, 0, 2, 1, 1, 3, 2, 3,\n",
              "       3, 0, 0, 1, 3, 0, 2, 3, 0, 3, 0, 3, 0, 2, 0, 0, 1, 1, 3, 3, 2, 0,\n",
              "       2, 3, 3, 3, 2, 1, 1, 2, 3, 1, 0, 3, 1, 3, 0, 2, 1, 3, 2, 2, 0, 3,\n",
              "       0, 0, 3, 2, 3, 0, 1, 3, 0, 3, 2, 3, 3, 2, 2, 1, 2, 1, 3, 1, 1, 0,\n",
              "       1, 2, 3, 3, 2, 3, 2, 0, 2, 3, 0, 0, 2, 1, 2, 0, 3, 3, 0])"
            ]
          },
          "metadata": {},
          "execution_count": 99
        }
      ]
    },
    {
      "cell_type": "code",
      "source": [
        "new_Ytest = y_test.astype(int)"
      ],
      "metadata": {
        "id": "5MAVgWoUO_26"
      },
      "execution_count": null,
      "outputs": []
    },
    {
      "cell_type": "code",
      "source": [
        "new_Ytest"
      ],
      "metadata": {
        "id": "PHjQT-FtPIF-",
        "colab": {
          "base_uri": "https://localhost:8080/"
        },
        "outputId": "c6e63bc5-2dcb-4871-f87d-0aab76e57114"
      },
      "execution_count": null,
      "outputs": [
        {
          "output_type": "execute_result",
          "data": {
            "text/plain": [
              "array([3, 1, 0, 2, 3, 1, 1, 3, 0, 2, 2, 0, 3, 1, 3, 2, 3, 3, 0, 1, 2, 1,\n",
              "       1, 3, 1, 1, 0, 3, 3, 1, 1, 0, 1, 1, 3, 3, 1, 2, 2, 2, 2, 1, 2, 1,\n",
              "       3, 0, 1, 2, 2, 2, 1, 3, 2, 2, 0, 3, 2, 2, 3, 3, 1, 3, 1, 1, 1, 0,\n",
              "       2, 1, 2, 3, 0, 0, 3, 2, 3, 2, 3, 2, 1, 3, 3, 3, 2, 0, 2, 0, 1, 1,\n",
              "       3, 1, 2, 0, 0, 0, 2, 1, 2, 0, 2, 0, 0, 1, 2, 0, 3, 1, 1, 3, 1, 1,\n",
              "       3, 0, 1, 3, 2, 1, 3, 0, 0, 0, 2, 2, 1, 0, 1, 2, 2, 1, 3, 0, 2, 1,\n",
              "       0, 2, 3, 0, 0, 0, 3, 3, 1, 0, 2, 2, 0, 1, 1, 2, 1, 2, 2, 3, 3, 1,\n",
              "       0, 0, 1, 0, 0, 2, 1, 3, 3, 2, 0, 1, 0, 3, 3, 2, 0, 2, 3, 0, 2, 3,\n",
              "       2, 2, 1, 3, 2, 0, 1, 0, 0, 0, 1, 3, 0, 1, 0, 0, 3, 3, 2, 1, 3, 2,\n",
              "       3, 3, 1, 3, 1, 2, 2, 3, 3, 0, 2, 2, 0, 0, 2, 3, 2, 2, 0, 1, 0, 1,\n",
              "       1, 0, 2, 3, 0, 2, 2, 3, 0, 3, 0, 1, 2, 2, 0, 0, 2, 0, 3, 3, 2, 3,\n",
              "       3, 3, 0, 1, 1, 2, 2, 1, 0, 1, 1, 1, 3, 0, 0, 2, 2, 1, 1, 2, 0, 0,\n",
              "       2, 1, 2, 1, 2, 1, 2, 1, 0, 1, 0, 3, 0, 0, 2, 0, 2, 0, 1, 2, 2, 2,\n",
              "       2, 2, 0, 1, 1, 3, 3, 2, 0, 0, 0, 2, 2, 1, 2, 1, 1, 0, 2, 3, 0, 0,\n",
              "       2, 0, 1, 2, 2, 2, 1, 3, 1, 2, 2, 1, 3, 3, 2, 2, 0, 3, 0, 0, 0, 3,\n",
              "       3, 0, 1, 2, 3, 1, 3, 0, 2, 3, 1, 2, 2, 0, 0, 0, 2, 1, 1, 3, 2, 3,\n",
              "       3, 0, 0, 1, 3, 0, 2, 3, 0, 3, 0, 3, 0, 2, 0, 0, 1, 1, 3, 3, 2, 0,\n",
              "       2, 3, 3, 3, 2, 1, 1, 2, 3, 1, 0, 3, 1, 3, 0, 2, 1, 3, 2, 2, 0, 3,\n",
              "       0, 0, 3, 2, 3, 0, 1, 3, 0, 3, 2, 3, 3, 2, 2, 1, 2, 1, 3, 1, 1, 0,\n",
              "       1, 2, 3, 3, 2, 3, 2, 0, 2, 3, 0, 0, 2, 1, 2, 0, 3, 3, 0])"
            ]
          },
          "metadata": {},
          "execution_count": 101
        }
      ]
    },
    {
      "cell_type": "code",
      "source": [
        "from sklearn.metrics import classification_report\n",
        "report = classification_report(new_Ytest, predictions)\n",
        "print(report)"
      ],
      "metadata": {
        "id": "fc0vxwJHPMlP",
        "colab": {
          "base_uri": "https://localhost:8080/"
        },
        "outputId": "b593954d-976a-4023-a358-5539fb0977f0"
      },
      "execution_count": null,
      "outputs": [
        {
          "output_type": "stream",
          "name": "stdout",
          "text": [
            "              precision    recall  f1-score   support\n",
            "\n",
            "           0       0.98      0.95      0.97       110\n",
            "           1       0.89      0.97      0.93       101\n",
            "           2       0.97      0.95      0.96       120\n",
            "           3       0.97      0.94      0.96       106\n",
            "\n",
            "    accuracy                           0.95       437\n",
            "   macro avg       0.95      0.95      0.95       437\n",
            "weighted avg       0.96      0.95      0.95       437\n",
            "\n"
          ]
        }
      ]
    },
    {
      "cell_type": "code",
      "source": [
        "from sklearn.metrics import confusion_matrix\n",
        "matrix = confusion_matrix(new_Ytest, predictions)\n",
        "print (matrix)\n",
        "\n",
        "# 0 = happy, 1 = sad, 2 = neutral, 3 = fearful"
      ],
      "metadata": {
        "id": "gSL5vtI4PkBc",
        "colab": {
          "base_uri": "https://localhost:8080/"
        },
        "outputId": "71cf3b11-1925-498e-9ae3-330bd4f925d4"
      },
      "execution_count": null,
      "outputs": [
        {
          "output_type": "stream",
          "name": "stdout",
          "text": [
            "[[105   2   0   3]\n",
            " [  0  98   3   0]\n",
            " [  0   6 114   0]\n",
            " [  2   4   0 100]]\n"
          ]
        }
      ]
    },
    {
      "cell_type": "code",
      "source": [
        "model.save('testing_model.h5')\n",
        "print(\"MODEL SAVED\")"
      ],
      "metadata": {
        "id": "kc8kDALEPqaS",
        "colab": {
          "base_uri": "https://localhost:8080/"
        },
        "outputId": "ff4f8ee9-dc92-44d8-ecf3-533cd03c59e1"
      },
      "execution_count": null,
      "outputs": [
        {
          "output_type": "stream",
          "name": "stdout",
          "text": [
            "MODEL SAVED\n"
          ]
        }
      ]
    },
    {
      "cell_type": "code",
      "source": [
        "new_model=keras.models.load_model('testing_model.h5')\n",
        "new_model.summary()"
      ],
      "metadata": {
        "id": "nIeDPX9BPu5z",
        "colab": {
          "base_uri": "https://localhost:8080/"
        },
        "outputId": "093f59dc-a8a2-4330-ce0f-0d28837f63b9"
      },
      "execution_count": null,
      "outputs": [
        {
          "output_type": "stream",
          "name": "stdout",
          "text": [
            "Model: \"sequential\"\n",
            "_________________________________________________________________\n",
            " Layer (type)                Output Shape              Param #   \n",
            "=================================================================\n",
            " conv1d (Conv1D)             (None, 52, 64)            320       \n",
            "                                                                 \n",
            " activation (Activation)     (None, 52, 64)            0         \n",
            "                                                                 \n",
            " dropout (Dropout)           (None, 52, 64)            0         \n",
            "                                                                 \n",
            " max_pooling1d (MaxPooling1D  (None, 13, 64)           0         \n",
            " )                                                               \n",
            "                                                                 \n",
            " conv1d_1 (Conv1D)           (None, 13, 128)           32896     \n",
            "                                                                 \n",
            " activation_1 (Activation)   (None, 13, 128)           0         \n",
            "                                                                 \n",
            " dropout_1 (Dropout)         (None, 13, 128)           0         \n",
            "                                                                 \n",
            " max_pooling1d_1 (MaxPooling  (None, 3, 128)           0         \n",
            " 1D)                                                             \n",
            "                                                                 \n",
            " conv1d_2 (Conv1D)           (None, 3, 256)            131328    \n",
            "                                                                 \n",
            " activation_2 (Activation)   (None, 3, 256)            0         \n",
            "                                                                 \n",
            " dropout_2 (Dropout)         (None, 3, 256)            0         \n",
            "                                                                 \n",
            " flatten (Flatten)           (None, 768)               0         \n",
            "                                                                 \n",
            " dense (Dense)               (None, 8)                 6152      \n",
            "                                                                 \n",
            " activation_3 (Activation)   (None, 8)                 0         \n",
            "                                                                 \n",
            "=================================================================\n",
            "Total params: 170,696\n",
            "Trainable params: 170,696\n",
            "Non-trainable params: 0\n",
            "_________________________________________________________________\n"
          ]
        }
      ]
    },
    {
      "cell_type": "code",
      "source": [
        "loss, acc = new_model.evaluate(x_testcnn, y_test)\n",
        "print(\"Restored model, accuracy: {:5.2f}%\".format(100*acc))"
      ],
      "metadata": {
        "id": "PUlJ1PoSPzaz",
        "colab": {
          "base_uri": "https://localhost:8080/"
        },
        "outputId": "e3740b75-a424-4fb1-b241-de77a9c27a1f"
      },
      "execution_count": null,
      "outputs": [
        {
          "output_type": "stream",
          "name": "stdout",
          "text": [
            "14/14 [==============================] - 0s 4ms/step - loss: 0.1198 - accuracy: 0.9542\n",
            "Restored model, accuracy: 95.42%\n"
          ]
        }
      ]
    },
    {
      "cell_type": "code",
      "source": [
        "def convertclasstoemotion(pred):\n",
        "\n",
        "\n",
        "  label_conversion = {'0': 'happy',\n",
        "                            '1': 'sad',\n",
        "                            '2': 'neutral',\n",
        "                            '3': 'fearful'}\n",
        "\n",
        "\n",
        "  for key, value in label_conversion.items():\n",
        "            if int(key) == pred:\n",
        "                label = value\n",
        "  return label"
      ],
      "metadata": {
        "id": "M13_tg5nXCRo"
      },
      "execution_count": null,
      "outputs": []
    },
    {
      "cell_type": "code",
      "source": [
        "\"\"\"\n",
        "This file can be used to try a live prediction.\n",
        "\"\"\"\n",
        "\n",
        "import keras\n",
        "import numpy as np\n",
        "import librosa\n",
        "\n",
        "def livePredictions():\n",
        "  file = input()\n",
        "  loaded_model = keras.models.load_model('/content/testing_model.h5')\n",
        "  loaded_model.summary()\n",
        "  features = extract_feature(file)\n",
        "  x = np.expand_dims(features, axis=1)\n",
        "  x = np.expand_dims(x, axis=0)\n",
        "  predict_x=loaded_model.predict(x)\n",
        "  predictions=np.argmax(predict_x,axis=1)\n",
        "  print(\"Prediction is\", \" \", convertclasstoemotion(predictions))\n",
        "\n",
        "\n"
      ],
      "metadata": {
        "id": "PwvtWkGIRtt5"
      },
      "execution_count": null,
      "outputs": []
    },
    {
      "cell_type": "code",
      "source": [
        "tensorflow.data.experimental.enable_debug_mode()\n",
        "livePredictions()"
      ],
      "metadata": {
        "id": "x9EPFLEYY8fd",
        "colab": {
          "base_uri": "https://localhost:8080/"
        },
        "outputId": "065ed8f7-4aa3-42c0-b6d3-81fb365c5d68"
      },
      "execution_count": null,
      "outputs": [
        {
          "output_type": "stream",
          "name": "stdout",
          "text": [
            "/content/toronto-emotional-speech-set-tess/tess toronto emotional speech set data/TESS Toronto emotional speech set data/OAF_Fear/OAF_back_fear.wav\n",
            "Model: \"sequential\"\n",
            "_________________________________________________________________\n",
            " Layer (type)                Output Shape              Param #   \n",
            "=================================================================\n",
            " conv1d (Conv1D)             (None, 52, 64)            320       \n",
            "                                                                 \n",
            " activation (Activation)     (None, 52, 64)            0         \n",
            "                                                                 \n",
            " dropout (Dropout)           (None, 52, 64)            0         \n",
            "                                                                 \n",
            " max_pooling1d (MaxPooling1D  (None, 13, 64)           0         \n",
            " )                                                               \n",
            "                                                                 \n",
            " conv1d_1 (Conv1D)           (None, 13, 128)           32896     \n",
            "                                                                 \n",
            " activation_1 (Activation)   (None, 13, 128)           0         \n",
            "                                                                 \n",
            " dropout_1 (Dropout)         (None, 13, 128)           0         \n",
            "                                                                 \n",
            " max_pooling1d_1 (MaxPooling  (None, 3, 128)           0         \n",
            " 1D)                                                             \n",
            "                                                                 \n",
            " conv1d_2 (Conv1D)           (None, 3, 256)            131328    \n",
            "                                                                 \n",
            " activation_2 (Activation)   (None, 3, 256)            0         \n",
            "                                                                 \n",
            " dropout_2 (Dropout)         (None, 3, 256)            0         \n",
            "                                                                 \n",
            " flatten (Flatten)           (None, 768)               0         \n",
            "                                                                 \n",
            " dense (Dense)               (None, 8)                 6152      \n",
            "                                                                 \n",
            " activation_3 (Activation)   (None, 8)                 0         \n",
            "                                                                 \n",
            "=================================================================\n",
            "Total params: 170,696\n",
            "Trainable params: 170,696\n",
            "Non-trainable params: 0\n",
            "_________________________________________________________________\n",
            "Prediction is   fearful\n"
          ]
        }
      ]
    }
  ]
}